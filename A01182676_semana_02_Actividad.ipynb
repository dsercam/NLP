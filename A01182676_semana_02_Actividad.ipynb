{
  "nbformat": 4,
  "nbformat_minor": 0,
  "metadata": {
    "colab": {
      "provenance": [],
      "include_colab_link": true
    },
    "kernelspec": {
      "name": "python3",
      "display_name": "Python 3"
    },
    "language_info": {
      "name": "python"
    }
  },
  "cells": [
    {
      "cell_type": "markdown",
      "metadata": {
        "id": "view-in-github",
        "colab_type": "text"
      },
      "source": [
        "<a href=\"https://colab.research.google.com/github/dsercam/NLP/blob/main/A01182676_semana_02_Actividad.ipynb\" target=\"_parent\"><img src=\"https://colab.research.google.com/assets/colab-badge.svg\" alt=\"Open In Colab\"/></a>"
      ]
    },
    {
      "cell_type": "markdown",
      "source": [
        "#**Maestría en Inteligencia Artificial Aplicada**\n",
        "##**Curso: Procesamiento de Lenguaje Natural (NLP)**\n",
        "###Tecnológico de Monterrey\n",
        "###Prof Luis Eduardo Falcón Morales\n",
        "\n",
        "## **Adtividad de la Semana 02**\n",
        "###**Introducción al procesamiento de texto.**"
      ],
      "metadata": {
        "id": "759SG4TyfbUn"
      }
    },
    {
      "cell_type": "markdown",
      "source": [
        "En esta actividad deberás utilizar los datos del siguiente archivo que se encuentra en Canvas:\n",
        "\n",
        "MNA_NLP_semana_02_Actividad_datos.txt\n",
        "\n",
        "El archivo contiene comentarios en inglés sobre servicios de comida de la página de Yelp: https://www.yelp.com/ .\n",
        "\n",
        "Son mil comentarios y forman parte del conjunto de datos que se encuentra en el Machine Learning Repository de la UCI, llamado \"Sentiment Labelled Sentences\": https://archive.ics.uci.edu/ml/datasets/Sentiment+Labelled+Sentences#\n"
      ],
      "metadata": {
        "id": "6ue1YAKx3XDo"
      }
    },
    {
      "cell_type": "markdown",
      "source": [
        "#**Parte 1. Cargamos los datos.**   "
      ],
      "metadata": {
        "id": "Zj-h4drXD-X9"
      }
    },
    {
      "cell_type": "markdown",
      "source": [
        "Cargar los datos del archivo indicado y obtener una lista de longitud de 1000 strings/comentarios.\n",
        "\n",
        "Por el momento solamente requerimos las bibliotecas de Numpy y re, para el manejo de los arreglos y de las expresiones regulares en Python.\n",
        "\n",
        "En particular, no necesitarás en esta actividad la biblioteca de Pandas.\n",
        "\n",
        "###**NOTA: En esta actividad no debes importar nada más, con estas dos bibliotecas será *suficiente*.**"
      ],
      "metadata": {
        "id": "BY6yifxscfrx"
      }
    },
    {
      "cell_type": "code",
      "source": [
        "import numpy as np    # importamos Numpy para el manejo de los arreglos.\n",
        "import re             # importamos re para el manejo de las expresiones regulares."
      ],
      "metadata": {
        "id": "OJ26dAfhdFnf"
      },
      "execution_count": null,
      "outputs": []
    },
    {
      "cell_type": "code",
      "source": [
        "# Ejecuta las siguientes instrucciones para cargar la información del achivo dado:\n",
        "\n",
        "with open('MNA_NLP_semana_02_Actividad_datos.txt',        # puedes actualizar la ruta a tu archivo, en dado caso.\n",
        "          mode='r',     # abrimos el archivo en modo lectura.\n",
        "          ) as f:\n",
        "    docs = f.readlines()\n",
        "with open('MNA_NLP_semana_02_Actividad_datos.txt',        # puedes actualizar la ruta a tu archivo, en dado caso.\n",
        "          mode='r',     # abrimos el archivo en modo lectura.\n",
        "          ) as f:\n",
        "    singleDoc = f.read() # separamos cada comentario por líneas\n",
        "\n",
        "f.close()  # ya que tenemos la información en la variable docs, cerramos el archivo"
      ],
      "metadata": {
        "id": "QHUmJyjDdGNP"
      },
      "execution_count": null,
      "outputs": []
    },
    {
      "cell_type": "code",
      "source": [
        "type(docs) == list   # Verifica que tu variable \"docs\" es una lista"
      ],
      "metadata": {
        "id": "L6WzrSrodG-Y",
        "colab": {
          "base_uri": "https://localhost:8080/"
        },
        "outputId": "a59beb34-a389-4b52-cd47-1321e077a547"
      },
      "execution_count": null,
      "outputs": [
        {
          "output_type": "execute_result",
          "data": {
            "text/plain": [
              "True"
            ]
          },
          "metadata": {},
          "execution_count": 3
        }
      ]
    },
    {
      "cell_type": "code",
      "source": [
        "len(docs)==1000  # verifica que la longitud de \"docs\" es de mil comentarios."
      ],
      "metadata": {
        "id": "QIK1u9WS2FtS",
        "colab": {
          "base_uri": "https://localhost:8080/"
        },
        "outputId": "3cdbc9ed-ab36-4856-a4cb-71744cb09b5c"
      },
      "execution_count": null,
      "outputs": [
        {
          "output_type": "execute_result",
          "data": {
            "text/plain": [
              "True"
            ]
          },
          "metadata": {},
          "execution_count": 4
        }
      ]
    },
    {
      "cell_type": "code",
      "source": [
        "docs[0:10]     # observa algunos de los primeros comentarios"
      ],
      "metadata": {
        "id": "9AMLIfQvJqNZ",
        "colab": {
          "base_uri": "https://localhost:8080/"
        },
        "outputId": "89948bf8-169d-46f4-e7b1-62401bf2b67f"
      },
      "execution_count": null,
      "outputs": [
        {
          "output_type": "execute_result",
          "data": {
            "text/plain": [
              "['Wow... Loved this place.\\n',\n",
              " 'Crust is not good.\\n',\n",
              " 'Not tasty and the texture was just nasty.\\n',\n",
              " 'Stopped by during the late May bank holiday off Rick Steve recommendation and loved it.\\n',\n",
              " 'The selection on the menu was great and so were the prices.\\n',\n",
              " 'Now I am getting angry and I want my damn pho.\\n',\n",
              " \"Honeslty it didn't taste THAT fresh.)\\n\",\n",
              " 'The potatoes were like rubber and you could tell they had been made up ahead of time being kept under a warmer.\\n',\n",
              " 'The fries were great too.\\n',\n",
              " 'A great touch.\\n']"
            ]
          },
          "metadata": {},
          "execution_count": 5
        }
      ]
    },
    {
      "cell_type": "code",
      "source": [
        "singleDoc"
      ],
      "metadata": {
        "colab": {
          "base_uri": "https://localhost:8080/",
          "height": 116
        },
        "id": "IvCeOTxUVsO9",
        "outputId": "8e478d34-4528-4c31-8b65-bc248bb7514c"
      },
      "execution_count": null,
      "outputs": [
        {
          "output_type": "execute_result",
          "data": {
            "text/plain": [
              "'Wow... Loved this place.\\nCrust is not good.\\nNot tasty and the texture was just nasty.\\nStopped by during the late May bank holiday off Rick Steve recommendation and loved it.\\nThe selection on the menu was great and so were the prices.\\nNow I am getting angry and I want my damn pho.\\nHoneslty it didn\\'t taste THAT fresh.)\\nThe potatoes were like rubber and you could tell they had been made up ahead of time being kept under a warmer.\\nThe fries were great too.\\nA great touch.\\nService was very prompt.\\nWould not go back.\\nThe cashier had no care what so ever on what I had to say it still ended up being wayyy overpriced.\\n\"I tried the Cape Cod ravoli, chicken,with cranberry...mmmm!\"\\nI was disgusted because I was pretty sure that was human hair.\\nI was shocked because no signs indicate cash only.\\nHighly recommended.\\nWaitress was a little slow in service.\\n\"This place is not worth your time, let alone Vegas.\"\\ndid not like at all.\\nThe Burrittos Blah!\\n\"The food, amazing.\"\\nService is also cute.\\nI could care less... The interior is just beautiful.\\nSo they performed.\\nThat\\'s right....the red velvet cake.....ohhh this stuff is so good.\\n- They never brought a salad we asked for.\\n\"This hole in the wall has great Mexican street tacos, and friendly staff.\"\\n\"Took an hour to get our food only 4 tables in restaurant my food was Luke warm, Our sever was running around like he was totally overwhelmed.\"\\nThe worst was the salmon sashimi.\\n\"Also there are combos like a burger, fries, and beer for 23 which is a decent deal.\"\\nThis was like the final blow!\\nI found this place by accident and I could not be happier.\\n\"seems like a good quick place to grab a bite of some familiar pub food, but do yourself a favor and look elsewhere.\"\\n\"Overall, I like this place a lot.\"\\nThe only redeeming quality of the restaurant was that it was very inexpensive.\\nAmple portions and good prices.\\n\"Poor service, the waiter made me feel like I was stupid every time he came to the table.\"\\nMy first visit to Hiro was a delight!\\nService sucks.\\nThe shrimp tender and moist.\\nThere is not a deal good enough that would drag me into that establishment again.\\nHard to judge whether these sides were good because we were grossed out by the melted styrofoam and didn\\'t want to eat it for fear of getting sick.\\n\"On a positive note, our server was very attentive and provided great service.\"\\n\"Frozen pucks of disgust, with some of the worst people behind the register.\"\\nThe only thing I did like was the prime rib and dessert section.\\nIt\\'s too bad the food is so damn generic.\\n\"The burger is good beef, cooked just right.\"\\nIf you want a sandwich just go to any Firehouse!!!!!\\n\"My side Greek salad with the Greek dressing was so tasty, and the pita and hummus was very refreshing.\"\\nWe ordered the duck rare and it was pink and tender on the inside with a nice char on the outside.\\nHe came running after us when he realized my husband had left his sunglasses on the table.\\nTheir chow mein is so good!\\n\"They have horrible attitudes towards customers, and talk down to each one when customers don\\'t enjoy their food.\"\\nThe portion was huge!\\n\"Loved it...friendly servers, great food, wonderful and imaginative menu.\"\\nThe Heart Attack Grill in downtown Vegas is an absolutely flat-lined excuse for a restaurant.\\nNot much seafood and like 5 strings of pasta at the bottom.\\n\"The salad had just the right amount of sauce to not over power the scallop, which was perfectly cooked.\"\\n\"The ripped banana was not only ripped, but petrified and tasteless.\"\\nAt least think to refill my water before I struggle to wave you over for 10 minutes.\\nThis place receives stars for their APPETIZERS!!!\\nThe cocktails are all handmade and delicious.\\nWe\\'d definitely go back here again.\\nWe are so glad we found this place.\\n\"Great food and service, huge portions and they give a military discount.\"\\nAlways a great time at Dos Gringos!\\nUpdate.....went back for a second time and it was still just as amazing\\nWe got the food and apparently they have never heard of salt and the batter on the fish was chewy.\\nA great way to finish a great.\\n\"The deal included 5 tastings and 2 drinks, and Jeff went above and beyond what we expected.\"\\n\"- Really, really good rice, all the time.\"\\nThe service was meh.\\n\"It took over 30 min to get their milkshake, which was nothing more than chocolate milk.\"\\n\"I guess I should have known that this place would suck, because it is inside of the Excalibur, but I didn\\'t use my common sense.\"\\nThe scallop dish is quite appalling for value as well.\\n2 times - Very Bad Customer Service !\\nThe sweet potato fries were very good and seasoned well.\\nToday is the second time I\\'ve been to their lunch buffet and it was pretty good.\\nThere is so much good food in Vegas that I feel cheated for wasting an eating opportunity by going to Rice and Company.\\nComing here is like experiencing an underwhelming relationship where both parties can\\'t wait for the other person to ask to break up.\\nwalked in and the place smelled like an old grease trap and only 2 others there eating.\\nThe turkey and roast beef were bland.\\nThis place has it!\\nThe pan cakes everyone are raving about taste like a sugary disaster tailored to the palate of a six year old.\\nI love the Pho and the spring rolls oh so yummy you have to try.\\nThe poor batter to meat ratio made the chicken tenders very unsatisfying.\\nAll I have to say is the food was amazing!!!\\nOmelets are to die for!\\nEverything was fresh and delicious!\\n\"In summary, this was a largely disappointing dining experience.\"\\n\"It\\'s like a really sexy party in your mouth, where you\\'re outrageously flirting with the hottest person at the party.\"\\n\"Never been to Hard Rock Casino before, WILL NEVER EVER STEP FORWARD IN IT AGAIN!\"\\nBest breakfast buffet!!!\\nsay bye bye to your tip lady!\\nWe\\'ll never go again.\\nWill be back again!\\nFood arrived quickly!\\nIt was not good.\\n\"On the up side, their cafe serves really good food.\"\\n\"Our server was fantastic and when he found out the wife loves roasted garlic and bone marrow, he added extra to our meal and another marrow to go!\"\\n\"The only good thing was our waiter, he was very helpful and kept the bloddy mary\\'s coming.\"\\n\"Best Buffet in town, for the price you cannot beat it.\"\\n\"I LOVED their mussels cooked in this wine reduction, the duck was tender, and their potato dishes were delicious.\"\\nThis is one of the better buffets that I have been to.\\nSo we went to Tigerlilly and had a fantastic afternoon!\\n\"The food was delicious, our bartender was attentive and personable AND we got a great deal!\"\\nThe ambience is wonderful and there is music playing.\\nWill go back next trip out.\\nSooooo good!!\\n\"REAL sushi lovers, let\\'s be honest - Yama is not that good.\"\\n\"At least 40min passed in between us ordering and the food arriving, and it wasn\\'t that busy.\"\\nThis is a really fantastic Thai restaurant which is definitely worth a visit.\\n\"Nice, spicy and tender.\"\\nGood prices.\\nCheck it out.\\nIt was pretty gross!\\nI\\'ve had better atmosphere.\\nKind of hard to mess up a steak but they did.\\n\"Although I very much liked the look and sound of this place, the actual experience was a bit disappointing.\"\\nI just don\\'t know how this place managed to served the blandest food I have ever eaten when they are preparing Indian cuisine.\\n\"Worst service to boot, but that is the least of their worries.\"\\nService was fine and the waitress was friendly.\\n\"The guys all had steaks, and our steak loving son who has had steak at the best and worst places said it was the best steak he\\'s ever eaten.\"\\n\"We thought you\\'d have to venture further away to get good sushi, but this place really hit the spot that night.\"\\n\"Host staff were, for lack of a better word, BITCHES!\"\\nBland... Not a liking this place for a number of reasons and I don\\'t want to waste time on bad reviewing.. I\\'ll leave it at that...\\n\"Phenomenal food, service and ambiance.\"\\nI wouldn\\'t return.\\n\"Definitely worth venturing off the strip for the pork belly, will return next time I\\'m in Vegas.\"\\nThis place is way too overpriced for mediocre food.\\nPenne vodka excellent!\\n\"They have a good selection of food including a massive meatloaf sandwich, a crispy chicken wrap, a delish tuna melt and some tasty burgers.\"\\nThe management is rude.\\n\"Delicious NYC bagels, good selections of cream cheese, real Lox with capers even.\"\\n\"Great Subway, in fact it\\'s so good when you come here every other Subway will not meet your expectations.\"\\nI had a seriously solid breakfast here.\\nThis is one of the best bars with food in Vegas.\\n\"He was extremely rude and really, there are so many other restaurants I would love to dine at during a weekend in Vegas.\"\\nMy drink was never empty and he made some really great menu suggestions.\\nDon\\'t do it!!!!\\nThe waiter wasn\\'t helpful or friendly and rarely checked on us.\\nMy husband and I ate lunch here and were very disappointed with the food and service.\\nAnd the red curry had so much bamboo shoots and wasn\\'t very tasty to me.\\nNice blanket of moz over top but i feel like this was done to cover up the subpar food.\\nThe bathrooms are clean and the place itself is well decorated.\\n\"The menu is always changing, food quality is going down & service is extremely slow.\"\\n\"The service was a little slow , considering that were served by 3 people servers so the food was coming in a slow pace.\"\\nI give it 2 thumbs down\\nWe watched our waiter pay a lot more attention to other tables and ignore us.\\nMy fiancé and I came in the middle of the day and we were greeted and seated right away.\\nThis is a great restaurant at the Mandalay Bay.\\nWe waited for forty five minutes in vain.\\nCrostini that came with the salad was stale.\\nSome highlights : Great quality nigiri here!\\nthe staff is friendly and the joint is always clean.\\nthis was a different cut than the piece the other day but still wonderful and tender s well as well flavored.\\nI ordered the Voodoo pasta and it was the first time I\\'d had really excellent pasta since going gluten free several years ago.\\nthis place is good.\\n\"Unfortunately, we must have hit the bakery on leftover day because everything we ordered was STALE.\"\\nI came back today since they relocated and still not impressed.\\nI was seated immediately.\\n\"Their menu is diverse, and reasonably priced.\"\\nAvoid at all cost!\\nRestaurant is always full but never a wait.\\nDELICIOUS!!\\nThis place is hands-down one of the best places to eat in the Phoenix metro area.\\nSo don\\'t go there if you are looking for good food...\\nI\\'ve never been treated so bad.\\nBacon is hella salty.\\nWe also ordered the spinach and avocado salad; the ingredients were sad and the dressing literally had zero taste.\\n\"This really is how Vegas fine dining used to be, right down to the menus handed to the ladies that have no prices listed.\"\\nThe waitresses are very friendly.\\n\"Lordy, the Khao Soi is a dish that is not to be missed for curry lovers!\"\\nEverything on the menu is terrific and we were also thrilled that they made amazing accommodations for our vegetarian daughter.\\n\"Perhaps I caught them on an off night judging by the other reviews, but I\\'m not inspired to go back.\"\\nThe service here leaves a lot to be desired.\\n\"The atmosphere is modern and hip, while maintaining a touch of coziness.\"\\n\"Not a weekly haunt, but definitely a place to come back to every once in a while.\"\\nWe literally sat there for 20 minutes with no one asking to take our order.\\n\"The burger had absolutely no flavor - the meat itself was totally bland, the burger was overcooked and there was no charcoal flavor.\"\\nI also decided not to send it back because our waitress looked like she was on the verge of having a heart attack.\\nI dressed up to be treated so rudely!\\nIt was probably dirt.\\n\"Love this place, hits the spot when I want something healthy but not lacking in quantity or flavor.\"\\nI ordered the Lemon raspberry ice cocktail which was also incredible.\\n\"The food sucked, which we expected but it sucked more than we could have imagined.\"\\nInteresting decor.\\nWhat I really like there is the crepe station.\\n\"Also were served hot bread and butter, and home made potato chips with bacon bits on top....very original and very good.\"\\nyou can watch them preparing the delicious food!)\\nBoth of the egg rolls were fantastic.\\n\"When my order arrived, one of the gyros was missing.\"\\n\"I had a salad with the wings, and some ice cream for dessert and left feeling quite satisfied.\"\\nI\\'m not really sure how Joey\\'s was voted best hot dog in the Valley by readers of Phoenix Magazine.\\nThe best place to go for a tasty bowl of Pho!\\nThe live music on Fridays totally blows.\\nI\\'ve never been more insulted or felt disrespected.\\nVery friendly staff.\\nIt is worth the drive.\\n\"I had heard good things about this place, but it exceeding every hope I could have dreamed of.\"\\nFood was great and so was the serivce!\\nThe warm beer didn\\'t help.\\nGreat brunch spot.\\nService is friendly and inviting.\\nVery good lunch spot.\\nI\\'ve lived here since 1979 and this was the first (and last) time I\\'ve stepped foot into this place.\\nThe WORST EXPERIENCE EVER.\\nMust have been an off night at this place.\\n\"The sides are delish - mixed mushrooms, yukon gold puree, white corn - beateous.\"\\n\"If that bug never showed up I would have given a 4 for sure, but on the other side of the wall where this bug was climbing was the kitchen.\"\\n\"For about 10 minutes, we we\\'re waiting for her salad when we realized that it wasn\\'t coming any time soon.\"\\nMy friend loved the salmon tartar.\\nWon\\'t go back.\\nExtremely Tasty!\\nWaitress was good though!\\nSoggy and not good.\\nThe Jamaican mojitos are delicious.\\nWhich are small and not worth the price.\\n- the food is rich so order accordingly.\\n\"The shower area is outside so you can only rinse, not take a full shower, unless you don\\'t mind being nude for everyone to see!\"\\nThe service was a bit lacking.\\n\"Lobster Bisque, Bussell Sprouts, Risotto, Filet ALL needed salt and pepper..and of course there is none at the tables.\"\\nHopefully this bodes for them going out of business and someone who can cook can come in.\\n\"It was either too cold, not enough flavor or just bad.\"\\nI loved the bacon wrapped dates.\\nThis is an unbelievable BARGAIN!\\nThe folks at Otto always make us feel so welcome and special.\\n\"As for the \"\"mains,\"\" also uninspired.\"\\nThis is the place where I first had pho and it was amazing!!\\nThis wonderful experience made this place a must-stop whenever we are in town again.\\n\"If the food isn\\'t bad enough for you, then enjoy dealing with the world\\'s worst/annoying drunk people.\"\\nVery very fun chef.\\n\"Ordered a double cheeseburger & got a single patty that was falling apart (picture uploaded) Yeah, still sucks.\"\\nGreat place to have a couple drinks and watch any and all sporting events as the walls are covered with TV\\'s.\\n\"If it were possible to give them zero stars, they\\'d have it.\"\\n\"The descriptions said \"\"yum yum sauce\"\" and another said \"\"eel sauce\"\", yet another said \"\"spicy mayo\"\"...well NONE of the rolls had sauces on them.\"\\n\"I\\'d say that would be the hardest decision... Honestly, all of M\\'s dishes taste how they are supposed to taste (amazing).\"\\nIf she had not rolled the eyes we may have stayed... Not sure if we will go back and try it again.\\n\"Everyone is very attentive, providing excellent customer service.\"\\nHorrible - don\\'t waste your time and money.\\nNow this dish was quite flavourful.\\nBy this time our side of the restaurant was almost empty so there was no excuse.\\n\"(It wasn\\'t busy either) Also, the building was FREEZING cold.\"\\n\"like the other reviewer said \"\"you couldn\\'t pay me to eat at this place again.\"\"\"\\n-Drinks took close to 30 minutes to come out at one point.\\n\"Seriously flavorful delights, folks.\"\\nMuch better than the other AYCE sushi place I went to in Vegas.\\nThe lighting is just dark enough to set the mood.\\nBased on the sub-par service I received and no effort to show their gratitude for my business I won\\'t be going back.\\nOwner\\'s are really great people.!\\nThere is nothing privileged about working/eating there.\\nThe Greek dressing was very creamy and flavorful.\\n\"Overall, I don\\'t think that I would take my parents to this place again because they made most of the similar complaints that I silently felt too.\"\\nNow the pizza itself was good the peanut sauce was very tasty.\\nWe had 7 at our table and the service was pretty fast.\\nFantastic service here.\\nI as well would\\'ve given godfathers zero stars if possible.\\nThey know how to make them here.\\nvery tough and very short on flavor!\\nI hope this place sticks around.\\n\"I have been in more than a few bars in Vegas, and do not ever recall being charged for tap water.\"\\nThe restaurant atmosphere was exquisite.\\n\"Good service, very clean, and inexpensive, to boot!\"\\nThe seafood was fresh and generous in portion.\\n\"Plus, it\\'s only 8 bucks.\"\\n\"The service was not up to par, either.\"\\n\"Thus far, have only visited twice and the food was absolutely delicious each time.\"\\nJust as good as when I had it more than a year ago!\\n\"For a self proclaimed coffee cafe, I was wildly disappointed.\"\\nThe Veggitarian platter is out of this world!\\nYou cant go wrong with any of the food here.\\nYou can\\'t beat that.\\n\"Stopped by this place while in Madison for the Ironman, very friendly, kind staff.\"\\nThe chefs were friendly and did a good job.\\n\"I\\'ve had better, not only from dedicated boba tea spots, but even from Jenni Pho.\"\\nI liked the patio and the service was outstanding.\\nThe goat taco didn\\'t skimp on the meat and wow what FLAVOR!\\nI think not again\\nI had the mac salad and it was pretty bland so I will not be getting that again.\\nI went to Bachi Burger on a friend\\'s recommendation and was not disappointed.\\nService stinks here!\\nI waited and waited.\\n\"This place is not quality sushi, it is not a quality restaurant.\"\\nI would definitely recommend the wings as well as the pizza.\\nGreat Pizza and Salads!\\nThings that went wrong: - They burned the saganaki.\\nWe waited an hour for what was a breakfast I could have done 100 times better at home.\\nThis place is amazing!\\n\"I hate to disagree with my fellow Yelpers, but my husband and I were so disappointed with this place.\"\\nWaited 2 hours & never got either of our pizzas as many other around us who came in later did!\\nJust don\\'t know why they were so slow.\\n\"The staff is great, the food is delish, and they have an incredible beer selection.\"\\n\"I live in the neighborhood so I am disappointed I won\\'t be back here, because it is a convenient location.\"\\nI didn\\'t know pulled pork could be soooo delicious.\\n\"You get incredibly fresh fish, prepared with care.\"\\nBefore I go in to why I gave a 1 star rating please know that this was my third time eating at Bachi burger before writing a review.\\nI love the fact that everything on their menu is worth it.\\nNever again will I be dining at this place!\\nThe food was excellent and service was very good.\\nGood beer & drink selection and good food selection.\\nPlease stay away from the shrimp stir fried noodles.\\nThe potato chip order was sad... I could probably count how many chips were in that box and it was probably around 12.\\nFood was really boring.\\nGood Service-check!\\nThis greedy corporation will NEVER see another dime from me!\\n\"Will never, ever go back.\"\\n\"As much as I\\'d like to go back, I can\\'t get passed the atrocious service and will never return.\"\\n\"In the summer, you can dine in a charming outdoor patio - so very delightful.\"\\nI did not expect this to be so good!\\nFantastic food!\\nShe ordered a toasted English muffin that came out untoasted.\\nThe food was very good.\\nNever going back.\\n\"Great food for the price, which is very high quality and house made.\"\\nThe bus boy on the other hand was so rude.\\n\"By this point, my friends and I had basically figured out this place was a joke and didn\\'t mind making it publicly and loudly known.\"\\n\"Back to good BBQ, lighter fare, reasonable pricing and tell the public they are back to the old ways.\"\\n\"And considering the two of us left there very full and happy for about $20, you just can\\'t go wrong.\"\\nAll the bread is made in-house!\\nThe only downside is the service.\\n\"Also, the fries are without a doubt the worst fries I\\'ve ever had.\"\\nService was exceptional and food was a good as all the reviews.\\n\"A couple of months later, I returned and had an amazing meal.\"\\nFavorite place in town for shawarrrrrrma!!!!!!\\nThe black eyed peas and sweet potatoes... UNREAL!\\nYou won\\'t be disappointed.\\n\"They could serve it with just the vinaigrette and it may make for a better overall dish, but it was still very good.\"\\n\"I go to far too many places and I\\'ve never seen any restaurant that serves a 1 egg breakfast, especially for $4.00.\"\\nWhen my mom and I got home she immediately got sick and she only had a few bites of salad.\\nThe servers are not pleasant to deal with and they don\\'t always honor Pizza Hut coupons.\\n\"Both of them were truly unbelievably good, and I am so glad we went back.\"\\n\"We had fantastic service, and were pleased by the atmosphere.\"\\nEverything was gross.\\nI love this place.\\nGreat service and food.\\nFirst - the bathrooms at this location were dirty- Seat covers were not replenished & just plain yucky!!!\\n\"The burger... I got the \"\"Gold Standard\"\" a $17 burger and was kind of disappointed.\"\\n\"OMG, the food was delicioso!\"\\nThere is nothing authentic about this place.\\nthe spaghetti is nothing special whatsoever.\\n\"Of all the dishes, the salmon was the best, but all were great.\"\\nThe vegetables are so fresh and the sauce feels like authentic Thai.\\nIt\\'s worth driving up from Tucson!\\nThe selection was probably the worst I\\'ve seen in Vegas.....there was none.\\nPretty good beer selection too.\\n\"This place is like Chipotle, but BETTER.\"\\n\"Classy/warm atmosphere, fun and fresh appetizers, succulent steaks (Baseball steak!!!!!\"\\n5 stars for the brick oven bread app!\\n\"I have eaten here multiple times, and each time the food was delicious.\"\\nWe sat another ten minutes and finally gave up and left.\\nHe was terrible!\\nEveryone is treated equally special.\\nIt shouldn\\'t take 30 min for pancakes and eggs.\\nIt was delicious!!!\\n\"On the good side, the staff was genuinely pleasant and enthusiastic - a real treat.\"\\n\"Sadly, Gordon Ramsey\\'s Steak is a place we shall sharply avoid during our next trip to Vegas.\"\\nAs always the evening was wonderful and the food delicious!\\nBest fish I\\'ve ever had in my life!\\n(The bathroom is just next door and very nice.)\\nThe buffet is small and all the food they offered was BLAND.\\nThis is an Outstanding little restaurant with some of the Best Food I have ever tasted.\\nPretty cool I would say.\\nDefinitely a turn off for me & i doubt I\\'ll be back unless someone else is buying.\\nServer did a great job handling our large rowdy table.\\n\"I find wasting food to be despicable, but this just wasn\\'t food.\"\\nMy wife had the Lobster Bisque soup which was lukewarm.\\nWould come back again if I had a sushi craving while in Vegas.\\n\"The staff are great, the ambiance is great.\"\\nHe deserves 5 stars.\\nI left with a stomach ache and felt sick the rest of the day.\\nThey dropped more than the ball.\\n\"The dining space is tiny, but elegantly decorated and comfortable.\"\\n\"They will customize your order any way you\\'d like, my usual is Eggplant with Green Bean stir fry, love it!\"\\nAnd the beans and rice were mediocre at best.\\nBest tacos in town by far!!\\nI took back my money and got outta there.\\n\"In an interesting part of town, this place is amazing.\"\\nRUDE & INCONSIDERATE MANAGEMENT.\\n\"The staff are now not as friendly, the wait times for being served are horrible, no one even says hi for the first 10 minutes.\"\\nI won\\'t be back.\\nThey have great dinners.\\nThe service was outshining & I definitely recommend the Halibut.\\nThe food was terrible.\\nWILL NEVER EVER GO BACK AND HAVE TOLD MANY PEOPLE WHAT HAD HAPPENED.\\nI don\\'t recommend unless your car breaks down in front of it and you are starving.\\nI will come back here every time I\\'m in Vegas.\\nThis place deserves one star and 90% has to do with the food.\\nThis is a disgrace.\\nDef coming back to bowl next time\\n\"If you want healthy authentic or ethic food, try this place.\"\\nI will continue to come here on ladies night andddd date night ... highly recommend this place to anyone who is in the area (;\\n\"I have been here several times in the past, and the experience has always been great.\"\\nWe walked away stuffed and happy about our first Vegas buffet experience.\\nService was excellent and prices are pretty reasonable considering this is Vegas and located inside the Crystals shopping mall by Aria.\\n\"To summarize... the food was incredible, nay, transcendant... but nothing brings me joy quite like the memory of the pneumatic condiment dispenser.\"\\nI\\'m probably one of the few people to ever go to Ians and not like it.\\nKids pizza is always a hit too with lots of great side dish options for the kiddos!\\nService is perfect and the family atmosphere is nice to see.\\nCooked to perfection and the service was impeccable.\\nThis one is simply a disappointment.\\n\"Overall, I was very disappointed with the quality of food at Bouchon.\"\\nI don\\'t have to be an accountant to know I\\'m getting screwed!\\n\"Great place to eat, reminds me of the little mom and pop shops in the San Francisco Bay Area.\"\\nToday was my first taste of a Buldogis Gourmet Hot Dog and I have to tell you it was more than I ever thought possible.\\nLeft very frustrated.\\nI\\'ll definitely be in soon again.\\nFood was really good and I got full petty fast.\\nService was fantastic.\\nTOTAL WASTE OF TIME.\\nI don\\'t know what kind it is but they have the best iced tea.\\n\"Come hungry, leave happy and stuffed!\"\\n\"For service, I give them no stars.\"\\nI can assure you that you won\\'t be disappointed.\\nI can take a little bad service but the food sucks.\\nGave up trying to eat any of the crust (teeth still sore).\\nBut now I was completely grossed out.\\nI really enjoyed eating here.\\nFirst time going but I think I will quickly become a regular.\\n\"Our server was very nice, and even though he looked a little overwhelmed with all of our needs, he stayed professional and friendly until the end.\"\\nFrom what my dinner companions told me...everything was very fresh with nice texture and taste.\\n\"On the ground, right next to our table was a large, smeared, been-stepped-in-and-tracked-everywhere pile of green bird poop.\"\\n\"Furthermore, you can\\'t even find hours of operation on the website!\"\\nWe\\'ve tried to like this place but after 10+ times I think we\\'re done with them.\\nWhat a mistake that was!\\nNo complaints!\\nThis is some seriously good pizza and I\\'m an expert/connisseur on the topic.\\nWaiter was a jerk.\\n\"Strike 2, who wants to be rushed.\"\\nThese are the nicest restaurant owners I\\'ve ever come across.\\nI never come again.\\nWe loved the biscuits!!!\\nService is quick and friendly.\\nOrdered an appetizer and took 40 minutes and then the pizza another 10 minutes.\\nSo absolutley fantastic.\\nIt was a huge awkward 1.5lb piece of cow that was 3/4ths gristle and fat.\\ndefinitely will come back here again.\\nI like Steiners because it\\'s dark and it feels like a bar.\\nWow very spicy but delicious.\\n\"If you\\'re not familiar, check it out.\"\\nI\\'ll take my business dinner dollars elsewhere.\\nI\\'d love to go back.\\n\"Anyway, this FS restaurant has a wonderful breakfast/lunch.\"\\nNothing special.\\nEach day of the week they have a different deal and it\\'s all so delicious!\\n\"Not to mention the combination of pears, almonds and bacon is a big winner!\"\\nWill not be back.\\nSauce was tasteless.\\n\"The food is delicious and just spicy enough, so be sure to ask for spicier if you prefer it that way.\"\\nMy ribeye steak was cooked perfectly and had great mesquite flavor.\\nI don\\'t think we\\'ll be going back anytime soon.\\nFood was so gooodd.\\nI am far from a sushi connoisseur but I can definitely tell the difference between good food and bad food and this was certainly bad food.\\nI was so insulted.\\nThe last 3 times I had lunch here has been bad.\\nThe chicken wings contained the driest chicken meat I have ever eaten.\\n\"The food was very good and I enjoyed every mouthful, an enjoyable relaxed venue for couples small family groups etc.\"\\nNargile - I think you are great.\\nBest tater tots in the southwest.\\nWe loved the place.\\nDefinitely not worth the $3 I paid.\\nThe vanilla ice cream was creamy and smooth while the profiterole (choux) pastry was fresh enough.\\nIm in AZ all the time and now have my new spot.\\nThe manager was the worst.\\nThe inside is really quite nice and very clean.\\nThe food was outstanding and the prices were very reasonable.\\nI don\\'t think I\\'ll be running back to Carly\\'s anytime soon for food.\\n\"This is was due to the fact that it took 20 minutes to be acknowledged, then another 35 minutes to get our food...and they kept forgetting things.\"\\n\"Love the margaritas, too!\"\\nThis was my first and only Vegas buffet and it did not disappoint.\\n\"Very good, though!\"\\nThe one down note is the ventilation could use some upgrading.\\nGreat pork sandwich.\\nDon\\'t waste your time here.\\n\"Total letdown, I would much rather just go to the Camelback Flower Shop and Cartel Coffee.\"\\n\"Third, the cheese on my friend\\'s burger was cold.\"\\nWe enjoy their pizza and brunch.\\nThe steaks are all well trimmed and also perfectly cooked.\\nWe had a group of 70+ when we claimed we would only have 40 and they handled us beautifully.\\nI LOVED it!\\nWe asked for the bill to leave without eating and they didn\\'t bring that either.\\n\"This place is a jewel in Las Vegas, and exactly what I\\'ve been hoping to find in nearly ten years living here.\"\\nSeafood was limited to boiled shrimp and crab legs but the crab legs definitely did not taste fresh.\\nThe selection of food was not the best.\\nDelicious and I will absolutely be back!\\n\"This isn\\'t a small family restaurant, this is a fine dining establishment.\"\\nThey had a toro tartare with a cavier that was extraordinary and I liked the thinly sliced wagyu with white truffle.\\nI dont think I will be back for a very long time.\\n\"It was attached to a gas station, and that is rarely a good sign.\"\\nHow awesome is that.\\nI will be back many times soon.\\nThe menu had so much good stuff on it i could not decide!\\n\"Worse of all, he humiliated his worker right in front of me..Bunch of horrible name callings.\"\\nCONCLUSION: Very filling meals.\\nTheir daily specials are always a hit with my group.\\nAnd then tragedy struck.\\nThe pancake was also really good and pretty large at that.\\n\"This was my first crawfish experience, and it was delicious!\"\\nTheir monster chicken fried steak and eggs is my all time favorite.\\nWaitress was sweet and funny.\\n\"I also had to taste my Mom\\'s multi-grain pumpkin pancakes with pecan butter and they were amazing, fluffy, and delicious!\"\\n\"I\\'d rather eat airline food, seriously.\"\\nCant say enough good things about this place.\\nThe ambiance was incredible.\\nThe waitress and manager are so friendly.\\nI would not recommend this place.\\nOverall I wasn\\'t very impressed with Noca.\\nMy gyro was basically lettuce only.\\nTerrible service!\\nThoroughly disappointed!\\n\"I don\\'t each much pasta, but I love the homemade /hand made pastas and thin pizzas here.\"\\n\"Give it a try, you will be happy you did.\"\\nBy far the BEST cheesecurds we have ever had!\\nReasonably priced also!\\nEverything was perfect the night we were in.\\nThe food is very good for your typical bar food.\\nit was a drive to get there.\\n\"At first glance it is a lovely bakery cafe - nice ambiance, clean, friendly staff.\"\\n\"Anyway, I do not think i will go back there.\"\\n\"Point your finger at any item on the menu, order it and you won\\'t be disappointed.\"\\n\"Oh this is such a thing of beauty, this restaurant.\"\\nIf you haven\\'t gone here GO NOW!\\n\"A greasy, unhealthy meal.\"\\nfirst time there and might just be the last.\\nThose burgers were amazing.\\n\"Similarly, the delivery man did not say a word of apology when our food was 45 minutes late.\"\\nAnd it was way to expensive.\\n\"Be sure to order dessert, even if you need to pack it to-go - the tiramisu and cannoli are both to die for.\"\\nThis was my first time and I can\\'t wait until the next.\\nThe bartender was also nice.\\nEverything was good and tasty!\\nThis place is two thumbs up....way up.\\n\"The best place in Vegas for breakfast (just check out a Sat, or Sun.\"\\n\"If you love authentic Mexican food and want a whole bunch of interesting, yet delicious meats to choose from, you need to try this place.\"\\nTerrible management.\\nAn excellent new restaurant by an experienced Frenchman.\\nIf there were zero stars I would give it zero stars.\\n\"Great steak, great sides, great wine, amazing desserts.\"\\nWorst martini ever!\\nThe steak and the shrimp are in my opinion the best entrees at GC.\\nI had the opportunity today to sample your amazing pizzas!\\nWe waited for thirty minutes to be seated (although there were 8 vacant tables and we were the only folks waiting).\\nThe yellowtail carpaccio was melt in your mouth fresh.\\nI won\\'t try going back there even if it\\'s empty.\\n\"No, I\\'m going to eat the potato that I found some strangers hair in it.\"\\nJust spicy enough.. Perfect actually.\\nLast night was my second time dining here and I was so happy I decided to go back!\\n\"not even a \"\"hello, we will be right with you.\"\"\"\\nThe desserts were a bit strange.\\nMy boyfriend and I came here for the first time on a recent trip to Vegas and could not have been more pleased with the quality of food and service.\\n\"I really do recommend this place, you can go wrong with this donut place!\"\\nNice ambiance.\\nI would recommend saving room for this!\\nI guess maybe we went on an off night but it was disgraceful.\\n\"However, my recent experience at this particular location was not so good.\"\\n\"I know this is not like the other restaurants at all, something is very off here!\"\\nAVOID THIS ESTABLISHMENT!\\nI think this restaurant suffers from not trying hard enough.\\nAll of the tapas dishes were delicious!\\nI *heart* this place.\\nMy salad had a bland vinegrette on the baby greens and hearts of Palm.\\nAfter two I felt disgusting.\\nA good time!\\nI believe that this place is a great stop for those with a huge belly and hankering for sushi.\\nGenerous portions and great taste.\\nI will never go back to this place and will never ever recommended this place to anyone!\\n\"The servers went back and forth several times, not even so much as an \"\"Are you being helped?\"\"\"\\nFood was delicious!\\nAN HOUR... seriously?\\nI consider this theft.\\nEew... This location needs a complete overhaul.\\nWe recently witnessed her poor quality of management towards other guests as well.\\nWaited and waited and waited.\\n\"He also came back to check on us regularly, excellent service.\"\\nOur server was super nice and checked on us many times.\\n\"The pizza tasted old, super chewy in not a good way.\"\\nI swung in to give them a try but was deeply disappointed.\\nService was good and the company was better!\\nThe staff are also very friendly and efficient.\\n\"As for the service: I\\'m a fan, because it\\'s quick and you\\'re being served by some nice folks.\"\\nBoy was that sucker dry!!.\\nOver rated.\\n\"If you look for authentic Thai food, go else where.\"\\nTheir steaks are 100% recommended!\\nAfter I pulled up my car I waited for another 15 minutes before being acknowledged.\\nGreat food and great service in a clean and friendly setting.\\n\"All in all, I can assure you I\\'ll be back.\"\\nI hate those things as much as cheap quality black olives.\\n\"My breakfast was perpared great, with a beautiful presentation of 3 giant slices of Toast, lightly dusted with powdered sugar.\"\\nThe kids play area is NASTY!\\nGreat place fo take out or eat in.\\nThe waitress was friendly and happy to accomodate for vegan/veggie options.\\nOMG I felt like I had never eaten Thai food until this dish.\\n\"It was extremely \"\"crumby\"\" and pretty tasteless.\"\\nIt was a pale color instead of nice and char and has NO flavor.\\nThe croutons also taste homemade which is an extra plus.\\nI got home to see the driest damn wings ever!\\nIt\\'ll be a regular stop on my trips to Phoenix!\\nI really enjoyed Crema Café before they expanded; I even told friends they had the BEST breakfast.\\nNot good for the money.\\nI miss it and wish they had one in Philadelphia!\\n\"We got sitting fairly fast, but, ended up waiting 40 minutes just to place our order, another 30 minutes before the food arrived.\"\\nThey also have the best cheese crisp in town.\\n\"Good value, great food, great service.\"\\nCouldn\\'t ask for a more satisfying meal.\\nThe food is good.\\nIt was awesome.\\nI just wanted to leave.\\nWe made the drive all the way from North Scottsdale... and I was not one bit disappointed!\\nI will not be eating there again.\\n!....THE OWNERS REALLY REALLY need to quit being soooooo cheap let them wrap my freaking sandwich in two papers not one!\\nI checked out this place a couple years ago and was not impressed.\\n\"The chicken I got was definitely reheated and was only ok, the wedges were cold and soggy.\"\\n\"Sorry, I will not be getting food from here anytime soon :(\"\\nAn absolute must visit!\\nThe cow tongue and cheek tacos are amazing.\\nMy friend did not like his Bloody Mary.\\n\"Despite how hard I rate businesses, its actually rare for me to give a 1 star.\"\\nThey really want to make your experience a good one.\\nI will not return.\\nI had the chicken Pho and it tasted very bland.\\nVery disappointing!!!\\nThe grilled chicken was so tender and yellow from the saffron seasoning.\\n\"a drive thru means you do not want to wait around for half an hour for your food, but somehow when we end up going here they make us wait and wait.\"\\nPretty awesome place.\\nAmbience is perfect.\\nBest of luck to the rude and non-customer service focused new management.\\nAny grandmother can make a roasted chicken better than this one.\\nI asked multiple times for the wine list and after some time of being ignored I went to the hostess and got one myself.\\n\"The staff is always super friendly and helpful, which is especially cool when you bring two small boys and a baby!\"\\nFour stars for the food & the guy in the blue shirt for his great vibe & still letting us in to eat !\\nThe roast beef sandwich tasted really good!\\n\"Same evening, him and I are both drastically sick.\"\\nHigh-quality chicken on the chicken Caesar salad.\\nOrdered burger rare came in we\\'ll done.\\nWe were promptly greeted and seated.\\nTried to go here for lunch and it was a madhouse.\\n\"I was proven dead wrong by this sushi bar, not only because the quality is great, but the service is fast and the food, impeccable.\"\\n\"After waiting an hour and being seated, I was not in the greatest of moods.\"\\nThis is a good joint.\\nThe Macarons here are insanely good.\\nI\\'m not eating here!\\n\"Our waiter was very attentive, friendly, and informative.\"\\nMaybe if they weren\\'t cold they would have been somewhat edible.\\nThis place has a lot of promise but fails to deliver.\\nVery bad Experience!\\nWhat a mistake.\\nFood was average at best.\\nGreat food.\\nWe won\\'t be going back anytime soon!\\nVery Very Disappointed ordered the $35 Big Bay Plater.\\nGreat place to relax and have an awesome burger and beer.\\nIt is PERFECT for a sit-down family meal or get together with a few friends.\\n\"Not much flavor to them, and very poorly constructed.\"\\nThe patio seating was very comfortable.\\nThe fried rice was dry as well.\\nHands down my favorite Italian restaurant!\\n\"That just SCREAMS \"\"LEGIT\"\" in my book...somethat\\'s also pretty rare here in Vegas.\"\\nIt was just not a fun experience.\\nThe atmosphere was great with a lovely duo of violinists playing songs we requested.\\n\"I personally love the hummus, pita, baklava, falafels and Baba Ganoush (it\\'s amazing what they do with eggplant!).\"\\n\"Very convenient, since we were staying at the MGM!\"\\nThe owners are super friendly and the staff is courteous.\\nBoth great!\\nEclectic selection.\\nThe sweet potato tots were good but the onion rings were perfection or as close as I have had.\\nThe staff was very attentive.\\nAnd the chef was generous with his time (even came around twice so we can take pictures with him).\\n\"The owner used to work at Nobu, so this place is really similar for half the price.\"\\nGoogle mediocre and I imagine Smashburger will pop up.\\ndont go here.\\nI promise they won\\'t disappoint.\\nAs a sushi lover avoid this place by all means.\\nWhat a great double cheeseburger!\\nAwesome service and food.\\nA fantastic neighborhood gem !!!\\nI can\\'t wait to go back.\\nThe plantains were the worst I\\'ve ever tasted.\\nIt\\'s a great place and I highly recommend it.\\nService was slow and not attentive.\\n\"I gave it 5 stars then, and I\\'m giving it 5 stars now.\"\\nYour staff spends more time talking to themselves than me.\\nDessert: Panna Cotta was amazing.\\n\"Very good food, great atmosphere.1\"\\nDamn good steak.\\nTotal brunch fail.\\n\"Prices are very reasonable, flavors are spot on, the sauce is home made, and the slaw is not drenched in mayo.\"\\n\"The decor is nice, and the piano music soundtrack is pleasant.\"\\nThe steak was amazing...rge fillet relleno was the best seafood plate i have ever had!\\n\"Good food , good service .\"\\nIt was absolutely amazing.\\n\"I probably won\\'t be back, to be honest.\"\\nwill definitely be back!\\nThe sergeant pepper beef sandwich with auju sauce is an excellent sandwich as well.\\n\"Hawaiian Breeze, Mango Magic, and Pineapple Delight are the smoothies that I\\'ve tried so far and they\\'re all good.\"\\nWent for lunch - service was slow.\\n\"We had so much to say about the place before we walked in that he expected it to be amazing, but was quickly disappointed.\"\\nI was mortified.\\n\"Needless to say, we will never be back here again.\"\\n\"Anyways, The food was definitely not filling at all, and for the price you pay you should expect more.\"\\n\"The chips that came out were dripping with grease, and mostly not edible.\"\\nI wasn\\'t really impressed with Strip Steak.\\nHave been going since 2007 and every meal has been awesome!!\\nOur server was very nice and attentive as were the other serving staff.\\nThe cashier was friendly and even brought the food out to me.\\nI work in the hospitality industry in Paradise Valley and have refrained from recommending Cibo any longer.\\nThe atmosphere here is fun.\\nWould not recommend to others.\\n\"Service is quick and even \"\"to go\"\" orders are just like we like it!\"\\n\"I mean really, how do you get so famous for your fish and chips when it\\'s so terrible!?!\"\\n\"That said, our mouths and bellies were still quite pleased.\"\\nNot my thing.\\n2 Thumbs Up!!\\nIf you are reading this please don\\'t go there.\\n\"I loved the grilled pizza, reminded me of legit Italian pizza.\"\\nOnly Pros : Large seating area/ Nice bar area/ Great simple drink menu/ The BEST brick oven pizza with homemade dough!\\nThey have a really nice atmosphere.\\nTonight I had the Elk Filet special...and it sucked.\\n\"After one bite, I was hooked.\"\\nWe ordered some old classics and some new dishes after going there a few times and were sorely disappointed with everything.\\n\"Cute, quaint, simple, honest.\"\\nThe chicken was deliciously seasoned and had the perfect fry on the outside and moist chicken on the inside.\\n\"The food was great as always, compliments to the chef.\"\\nSpecial thanks to Dylan T. for the recommendation on what to order :) All yummy for my tummy.\\nAwesome selection of beer.\\nGreat food and awesome service!\\n\"One nice thing was that they added gratuity on the bill since our party was larger than 6 or 8, and they didn\\'t expect more tip than that.\"\\nA FLY was in my apple juice.. A FLY!!!!!!!!\\nThe Han Nan Chicken was also very tasty.\\n\"As for the service, I thought it was good.\"\\n\"The food was barely lukewarm, so it must have been sitting waiting for the server to bring it out to us.\"\\nRyan\\'s Bar is definitely one Edinburgh establishment I won\\'t be revisiting.\\nNicest Chinese restaurant I\\'ve been in a while.\\n\"Overall, I like there food and the service.\"\\nThey also now serve Indian naan bread with hummus and some spicy pine nut sauce that was out of this world.\\n\"Probably never coming back, and wouldn\\'t recommend it.\"\\n\"Friend\\'s pasta -- also bad, he barely touched it.\"\\n\"Try them in the airport to experience some tasty food and speedy, friendly service.\"\\nI love the decor with the Chinese calligraphy wall paper.\\nNever had anything to complain about here.\\nThe restaurant is very clean and has a family restaurant feel to it.\\nIt was way over fried.\\nI\\'m not sure how long we stood there but it was long enough for me to begin to feel awkwardly out of place.\\n\"When I opened the sandwich, I was impressed, but not in a good way.\"\\nWill not be back!\\nThere was a warm feeling with the service and I felt like their guest for a special treat.\\nAn extensive menu provides lots of options for breakfast.\\n\"I always order from the vegetarian menu during dinner, which has a wide array of options to choose from.\"\\n\"I have watched their prices inflate, portions get smaller and management attitudes grow rapidly!\"\\nWonderful lil tapas and the ambience made me feel all warm and fuzzy inside.\\n\"I got to enjoy the seafood salad, with a fabulous vinegrette.\"\\n\"The wontons were thin, not thick and chewy, almost melt in your mouth.\"\\n\"Level 5 spicy was perfect, where spice didn\\'t over-whelm the soup.\"\\nWe were sat right on time and our server from the get go was FANTASTIC!\\n\"Main thing I didn\\'t enjoy is that the crowd is of older crowd, around mid 30s and up.\"\\n\"When I\\'m on this side of town, this will definitely be a spot I\\'ll hit up again!\"\\nI had to wait over 30 minutes to get my drink and longer to get 2 arepas.\\nThis is a GREAT place to eat!\\nThe jalapeno bacon is soooo good.\\nThe service was poor and thats being nice.\\n\"Food was good, service was good, Prices were good.\"\\nThe place was not clean and the food oh so stale!\\n\"The chicken dishes are OK, the beef is like shoe leather.\"\\nBut the service was beyond bad.\\n\"I\\'m so happy to be here!!!\"\"\"\\nTasted like dirt.\\nOne of the few places in Phoenix that I would definately go back to again .\\nThe block was amazing.\\n\"It\\'s close to my house, it\\'s low-key, non-fancy, affordable prices, good food.\"\\n* Both the Hot & Sour & the Egg Flower Soups were absolutely 5 Stars!\\nMy sashimi was poor quality being soggy and tasteless.\\nGreat time - family dinner on a Sunday night.\\n\"the food is not tasty at all, not to say its \"\"real traditional Hunan style\"\".\"\\n\"What did bother me, was the slow service.\"\\nThe flair bartenders are absolutely amazing!\\nTheir frozen margaritas are WAY too sugary for my taste.\\nThese were so good we ordered them twice.\\nSo in a nutshell: 1) The restaraunt smells like a combination of a dirty fish market and a sewer.\\nMy girlfriend\\'s veal was very bad.\\n\"Unfortunately, it was not good.\"\\nI had a pretty satifying experience.\\nJoin the club and get awesome offers via email.\\n\"Perfect for someone (me) who only likes beer ice cold, or in this case, even colder.\"\\nBland and flavorless is a good way of describing the barely tepid meat.\\n\"The chains, which I\\'m no fan of, beat this place easily.\"\\nThe nachos are a MUST HAVE!\\nWe will not be coming back.\\n\"I don\\'t have very many words to say about this place, but it does everything pretty well.\"\\n\"The staff is super nice and very quick even with the crazy crowds of the downtown juries, lawyers, and court staff.\"\\n\"Great atmosphere, friendly and fast service.\"\\nWhen I received my Pita it was huge it did have a lot of meat in it so thumbs up there.\\nOnce your food arrives it\\'s meh.\\nPaying $7.85 for a hot dog and fries that looks like it came out of a kid\\'s meal at the Wienerschnitzel is not my idea of a good meal.\\nThe classic Maine Lobster Roll was fantastic.\\n\"My brother in law who works at the mall ate here same day, and guess what he was sick all night too.\"\\nSo good I am going to have to review this place twice - once hereas a tribute to the place and once as a tribute to an event held here last night.\\n\"The chips and salsa were really good, the salsa was very fresh.\"\\nThis place is great!!!!!!!!!!!!!!\\nMediocre food.\\nOnce you get inside you\\'ll be impressed with the place.\\nI\\'m super pissd.\\nAnd service was super friendly.\\nWhy are these sad little vegetables so overcooked?\\nThis place was such a nice surprise!\\nThey were golden-crispy and delicious.\\n\"I had high hopes for this place since the burgers are cooked over a charcoal grill, but unfortunately the taste fell flat, way flat.\"\\nI could eat their bruschetta all day it is devine.\\nNot a single employee came out to see if we were OK or even needed a water refill once they finally served us our food.\\n\"Lastly, the mozzarella sticks, they were the best thing we ordered.\"\\n\"The first time I ever came here I had an amazing experience, I still tell people how awesome the duck was.\"\\nThe server was very negligent of our needs and made us feel very unwelcome... I would not suggest this place!\\nThe service was terrible though.\\n\"This place is overpriced, not consistent with their boba, and it really is OVERPRICED!\"\\nIt was packed!!\\nI love this place.\\nI can say that the desserts were yummy.\\nThe food was terrible.\\nThe seasonal fruit was fresh white peach puree.\\nIt kept getting worse and worse so now I\\'m officially done.\\nThis place should honestly be blown up.\\nBut I definitely would not eat here again.\\nDo not waste your money here!\\nI love that they put their food in nice plastic containers as opposed to cramming it in little paper takeout boxes.\\nThe crêpe was delicate and thin and moist.\\nAwful service.\\nWon\\'t ever go here again.\\nFood quality has been horrible.\\nFor that price I can think of a few place I would have much rather gone.\\nThe service here is fair at best.\\n\"I do love sushi, but I found Kabuki to be over-priced, over-hip and under-services.\"\\nDo yourself a favor and stay away from this dish.\\nVery poor service.\\nNo one at the table thought the food was above average or worth the wait that we had for it.\\n\"Best service and food ever, Maria our server was so good and friendly she made our day.\"\\nThey were excellent.\\nI paid the bill but did not tip because I felt the server did a terrible job.\\nJust had lunch here and had a great experience.\\nI have never had such bland food which surprised me considering the article we read focused so much on their spices and flavor.\\nFood is way overpriced and portions are fucking small.\\nI recently tried Caballero\\'s and I have been back every week since!\\n\"for 40 bucks a head, i really expect better food.\"\\nThe food came out at a good pace.\\n\"I ate there twice on my last visit, and especially enjoyed the salmon salad.\"\\nI won\\'t be back.\\nWe could not believe how dirty the oysters were!\\nThis place deserves no stars.\\nI would not recommend this place.\\n\"In fact I\\'m going to round up to 4 stars, just because she was so awesome.\"\\n\"To my disbelief, each dish qualified as the worst version of these foods I have ever tasted.\"\\n\"Bad day or not, I have a very low tolerance for rude customer service people, it is your job to be nice and polite, wash dishes otherwise!!\"\\nthe potatoes were great and so was the biscuit.\\nI probably would not go here again.\\nSo flavorful and has just the perfect amount of heat.\\nThe price is reasonable and the service is great.\\n\"The Wife hated her meal (coconut shrimp), and our friends really did not enjoy their meals, either.\"\\nMy fella got the huevos rancheros and they didn\\'t look too appealing.\\n\"Went in for happy hour, great list of wines.\"\\nSome may say this buffet is pricey but I think you get what you pay for and this place you are getting quite a lot!\\nI probably won\\'t be coming back here.\\nWorst food/service I\\'ve had in a while.\\n\"This place is pretty good, nice little vibe in the restaurant.\"\\nTalk about great customer service of course we will be back.\\n\"Hot dishes are not hot, cold dishes are close to room temp.I watched staff prepare food with BARE HANDS, no gloves.Everything is deep fried in oil.\"\\nI love their fries and their beans.\\nAlways a pleasure dealing with him.\\n\"They have a plethora of salads and sandwiches, and everything I\\'ve tried gets my seal of approval.\"\\nThis place is awesome if you want something light and healthy during the summer.\\n\"For sushi on the Strip, this is the place to go.\"\\n\"The service was great, even the manager came and helped with our table.\"\\nThe feel of the dining room was more college cooking course than high class dining and the service was slow at best.\\n\"I started this review with two stars, but I\\'m editing it to give it only one.\"\\nthis is the worst sushi i have ever eat besides Costco\\'s.\\n\"All in all an excellent restaurant highlighted by great service, a unique menu, and a beautiful setting.\"\\nMy boyfriend and i sat at the bar and had a completely delightful experience.\\nWeird vibe from owners.\\nThere was hardly any meat.\\nI\\'ve had better bagels from the grocery store.\\nGo To Place for Gyros.\\n\"I love the owner/chef, his one authentic Japanese cool dude!\"\\n\"Now the burgers aren\\'t as good, the pizza which used to be amazing is doughy and flavorless.\"\\nI found a six inch long piece of wire in my salsa.\\n\"The service was terrible, food was mediocre.\"\\nWe definately enjoyed ourselves.\\nI ordered Albondigas soup - which was just warm - and tasted like tomato soup with frozen meatballs.\\n\"On three different occasions I asked for well done or medium well, and all three times I got the bloodiest piece of meat on my plate.\"\\nI had about two bites and refused to eat anymore.\\nThe service was extremely slow.\\n\"After 20 minutes wait, I got a table.\"\\nSeriously killer hot chai latte.\\n\"No allergy warnings on the menu, and the waitress had absolutely no clue as to which meals did or did not contain peanuts.\"\\nMy boyfriend tried the Mediterranean Chicken Salad and fell in love.\\nTheir rotating beers on tap is also a highlight of this place.\\nPricing is a bit of a concern at Mellow Mushroom.\\nWorst Thai ever.\\nIf you stay in Vegas you must get breakfast here at least once.\\nI want to first say our server was great and we had perfect service.\\nThe pizza selections are good.\\n\"I had strawberry tea, which was good.\"\\nHighly unprofessional and rude to a loyal patron!\\n\"Overall, a great experience.\"\\nSpend your money elsewhere.\\nTheir regular toasted bread was equally satisfying with the occasional pats of butter... Mmmm...!\\nThe Buffet at Bellagio was far from what I anticipated.\\n\"And the drinks are WEAK, people!\"\\n-My order was not correct.\\n\"Also, I feel like the chips are bought, not made in house.\"\\nAfter the disappointing dinner we went elsewhere for dessert.\\nThe chips and sals a here is amazing!!!!!!!!!!!!!!!!!!!\\nWe won\\'t be returning.\\nThis is my new fav Vegas buffet spot.\\nI seriously cannot believe that the owner has so many unexperienced employees that all are running around like chickens with their heads cut off.\\n\"Very, very sad.\"\\n\"i felt insulted and disrespected, how could you talk and judge another human being like that?\"\\n\"How can you call yourself a steakhouse if you can\\'t properly cook a steak, I don\\'t understand!\"\\nI\\'m not impressed with the concept or the food.\\nThe only thing I wasn\\'t too crazy about was their guacamole as I don\\'t like it puréed.\\n\"There is really nothing for me at postinos, hope your experience is better\"\\nI got food poisoning here at the buffet.\\nThey brought a fresh batch of fries and I was thinking yay something warm but no!\\n\"What SHOULD have been a hilarious, yummy Christmas Eve dinner to remember was the biggest fail of the entire trip for us.\"\\n\"Needless to say, I won\\'t be going back anytime soon.\"\\nThis place is disgusting!\\n\"Every time I eat here, I see caring teamwork to a professional degree.\"\\nThe RI style calamari was a joke.\\n\"However, there was so much garlic in the fondue, it was barely edible.\"\\n\"I could barely stomach the meal, but didn\\'t complain because it was a business lunch.\"\\n\"It was so bad, I had lost the heart to finish it.\"\\nIt also took her forever to bring us the check when we asked for it.\\nWe aren\\'t ones to make a scene at restaurants but I just don\\'t get it...definitely lost the love after this one!\\nDisappointing experience.\\n\"The food is about on par with Denny\\'s, which is to say, not good at all.\"\\n\"If you want to wait for mediocre food and downright terrible service, then this is the place for you.\"\\nWAAAAAAyyyyyyyyyy over rated is all I am saying.\\nWe won\\'t be going back.\\nThe place was fairly clean but the food simply wasn\\'t worth it.\\nThis place lacked style!!\\n\"The sangria was about half of a glass wine full and was $12, ridiculous.\"\\nDon\\'t bother coming here.\\n\"The meat was pretty dry, I had the sliced brisket and pulled pork.\"\\n\"The building itself seems pretty neat; the bathroom is pretty trippy, but I wouldn\\'t eat here again.\"\\nIt was equally awful.\\nProbably not in a hurry to go back.\\nvery slow at seating even with reservation.\\nNot good by any stretch of the imagination.\\nThe cashew cream sauce was bland and the vegetables were undercooked.\\n\"The chipolte ranch dipping sause was tasteless, seemed thin and watered down with no heat.\"\\n\"It was a bit too sweet, not really spicy enough, and lacked flavor.\"\\nI was VERY disappointed!!\\nThis place is horrible and way overpriced.\\n\"Maybe it\\'s just their Vegetarian fare, but I\\'ve been twice and I thought it was average at best.\"\\nIt wasn\\'t busy at all and now we know why.\\nThe tables outside are also dirty a lot of the time and the workers are not always friendly and helpful with the menu.\\n\"The ambiance here did not feel like a buffet setting, but more of a douchey indoor garden for tea and biscuits.\"\\nCon: spotty service.\\n\"The fries were not hot, and neither was my burger.\"\\nBut then they came back cold.\\n\"Then our food came out, disappointment ensued.\"\\nThe real disappointment was our waiter.\\nMy husband said she was very rude... did not even apologize for the bad food or anything.\\nThe only reason to eat here would be to fill up before a night of binge drinking just to get some carbs in your stomach.\\n\"Insults, profound deuchebaggery, and had to go outside for a smoke break while serving just to solidify it.\"\\nIf someone orders two tacos don\\'t\\' you think it may be part of customer service to ask if it is combo or ala cart?\\nShe was quite disappointed although some blame needs to be placed at her door.\\nAfter all the rave reviews I couldn\\'t wait to eat here......what a disappointment!\\nDel Taco is pretty nasty and should be avoided if possible.\\nIt\\'s NOT hard to make a decent hamburger.\\nBut I don\\'t like it.\\nHell no will I go back\\nWe\\'ve have gotten a much better service from the pizza place next door than the services we received from this restaurant.\\n\"I don\\'t know what the big deal is about this place, but I won\\'t be back \"\"ya\\'all\"\".\"\\nI immediately said I wanted to talk to the manager but I did not want to talk to the guy who was doing shots of fireball behind the bar.\\nThe ambiance isn\\'t much better.\\n\"Unfortunately, it only set us up for disapppointment with our entrees.\"\\nThe food wasn\\'t good.\\n\"Your servers suck, wait, correction, our server Heimer sucked.\"\\nWhat happened next was pretty....off putting.\\n\"too bad cause I know it\\'s family owned, I really wanted to like this place.\"\\nOverpriced for what you are getting.\\nI vomited in the bathroom mid lunch.\\n\"I kept looking at the time and it had soon become 35 minutes, yet still no food.\"\\n\"I have been to very few places to eat that under no circumstances would I ever return to, and this tops the list.\"\\nWe started with the tuna sashimi which was brownish in color and obviously wasn\\'t fresh.\\nFood was below average.\\nIt sure does beat the nachos at the movies but I would expect a little bit more coming from a restaurant.\\n\"All in all, Ha Long Bay was a bit of a flop.\"\\nThe problem I have is that they charge $11.99 for a sandwich that is no bigger than a Subway sub (which offers better and more amount of vegetables).\\nShrimp- When I unwrapped it (I live only 1/2 a mile from Brushfire) it was literally ice cold.\\n\"It lacked flavor, seemed undercooked, and dry.\"\\nIt really is impressive that the place hasn\\'t closed down.\\nI would avoid this place if you are staying in the Mirage.\\nThe refried beans that came with my meal were dried out and crusty and the food was bland.\\nSpend your money and time some place else.\\nA lady at the table next to us found a live green caterpillar In her salad.\\nthe presentation of the food was awful.\\nI can\\'t tell you how disappointed I was.\\nI think food should have flavor and texture and both were lacking.\\nAppetite instantly gone.\\nOverall I was not impressed and would not go back.\\n\"The whole experience was underwhelming, and I think we\\'ll just go to Ninja Sushi next time.\"\\n\"Then, as if I hadn\\'t wasted enough of my life there, they poured salt in the wound by drawing out the time it took to bring the check.\"'"
            ],
            "application/vnd.google.colaboratory.intrinsic+json": {
              "type": "string"
            }
          },
          "metadata": {},
          "execution_count": 6
        }
      ]
    },
    {
      "cell_type": "markdown",
      "source": [
        "#**Parte 2: sección de preguntas (regex).**   \n"
      ],
      "metadata": {
        "id": "k_ewoagic5jc"
      }
    },
    {
      "cell_type": "markdown",
      "source": [
        "##**Instrucciones:**\n",
        "\n",
        "###**A continuación deberás contestar cada una de las preguntas que te piden usando expresiones regulares (regex).**\n",
        "\n",
        "###**Por el momento no hay restricción en cuanto al número de líneas de código que agregues, pero trata de incluir las mínimas posibles.**"
      ],
      "metadata": {
        "id": "X-eMJa3DFCIV"
      }
    },
    {
      "cell_type": "markdown",
      "source": [
        "   **Pregunta 1.**\n",
        "\n",
        "Busca y elimina todos los saltos de línea '\\n' que se encuentran al final de cada comentario.\n",
        "\n",
        "Una vez finalizado, imprime los primeros 10 comentarios del resultado obtenido.\n"
      ],
      "metadata": {
        "id": "78nJMemzn5a5"
      }
    },
    {
      "cell_type": "code",
      "source": [
        "docs = [re.sub(r'\\n', '', line) for line in docs]"
      ],
      "metadata": {
        "id": "PwbYYIuZn8pE"
      },
      "execution_count": null,
      "outputs": []
    },
    {
      "cell_type": "code",
      "source": [
        "docs[0:10]"
      ],
      "metadata": {
        "id": "j-0qeh2Jn8l1",
        "colab": {
          "base_uri": "https://localhost:8080/"
        },
        "outputId": "1a0c3da3-7d86-429c-c874-d27e39f528f7"
      },
      "execution_count": null,
      "outputs": [
        {
          "output_type": "execute_result",
          "data": {
            "text/plain": [
              "['Wow... Loved this place.',\n",
              " 'Crust is not good.',\n",
              " 'Not tasty and the texture was just nasty.',\n",
              " 'Stopped by during the late May bank holiday off Rick Steve recommendation and loved it.',\n",
              " 'The selection on the menu was great and so were the prices.',\n",
              " 'Now I am getting angry and I want my damn pho.',\n",
              " \"Honeslty it didn't taste THAT fresh.)\",\n",
              " 'The potatoes were like rubber and you could tell they had been made up ahead of time being kept under a warmer.',\n",
              " 'The fries were great too.',\n",
              " 'A great touch.']"
            ]
          },
          "metadata": {},
          "execution_count": 8
        }
      ]
    },
    {
      "cell_type": "markdown",
      "source": [
        "*   **Pregunta 2.**  \n",
        "\n",
        "Busca e imprime todas las palabras que terminan con dos o más signos de admiración seguidos, por ejemplo \"!!!\".\n",
        "\n",
        "Debes imprimir tanto la palabra como la totalidad de signos de admiración que le siguen.\n",
        "\n",
        "Indica cuántos resultados obtuviste.\n",
        "\n"
      ],
      "metadata": {
        "id": "VWeKQC93ctEo"
      }
    },
    {
      "cell_type": "code",
      "source": [
        "re.findall(r\"\\w+!{2}!*\", 'Wow...!! !! w!! Loved this place match!! less! more!!!')"
      ],
      "metadata": {
        "colab": {
          "base_uri": "https://localhost:8080/"
        },
        "id": "Ewcfg4c2J74C",
        "outputId": "fa879acd-551c-4e8b-9d51-f50f1912f627"
      },
      "execution_count": null,
      "outputs": [
        {
          "output_type": "execute_result",
          "data": {
            "text/plain": [
              "['w!!', 'match!!', 'more!!!']"
            ]
          },
          "metadata": {},
          "execution_count": 9
        }
      ]
    },
    {
      "cell_type": "code",
      "source": [
        "result = [re.findall(r\"\\w+!{2}!*\", line) for line in docs]\n",
        "result = [x for x in result if x] #remove empty lines - no matches found\n",
        "result\n"
      ],
      "metadata": {
        "colab": {
          "base_uri": "https://localhost:8080/"
        },
        "id": "DnwTU338MMXc",
        "outputId": "3045b73e-e25f-40ba-92dd-a694d93fef51"
      },
      "execution_count": null,
      "outputs": [
        {
          "output_type": "execute_result",
          "data": {
            "text/plain": [
              "[['Firehouse!!!!!'],\n",
              " ['APPETIZERS!!!'],\n",
              " ['amazing!!!'],\n",
              " ['buffet!!!'],\n",
              " ['good!!'],\n",
              " ['it!!!!'],\n",
              " ['DELICIOUS!!'],\n",
              " ['amazing!!'],\n",
              " ['shawarrrrrrma!!!!!!'],\n",
              " ['yucky!!!'],\n",
              " ['steak!!!!!'],\n",
              " ['delicious!!!'],\n",
              " ['far!!'],\n",
              " ['biscuits!!!'],\n",
              " ['dry!!'],\n",
              " ['disappointing!!!'],\n",
              " ['awesome!!'],\n",
              " ['Up!!'],\n",
              " ['FLY!!!!!!!!'],\n",
              " ['here!!!'],\n",
              " ['great!!!!!!!!!!!!!!'],\n",
              " ['packed!!'],\n",
              " ['otherwise!!'],\n",
              " ['amazing!!!!!!!!!!!!!!!!!!!'],\n",
              " ['style!!'],\n",
              " ['disappointed!!']]"
            ]
          },
          "metadata": {},
          "execution_count": 10
        }
      ]
    },
    {
      "cell_type": "code",
      "source": [
        "print(\"# de Coincidencias: \",len(result))"
      ],
      "metadata": {
        "colab": {
          "base_uri": "https://localhost:8080/"
        },
        "id": "ipIVqPKSPAgE",
        "outputId": "5ef9c019-78d6-46d5-eeae-6d20fd46405e"
      },
      "execution_count": null,
      "outputs": [
        {
          "output_type": "stream",
          "name": "stdout",
          "text": [
            "# de Coincidencias:  26\n"
          ]
        }
      ]
    },
    {
      "cell_type": "markdown",
      "source": [
        "*   **Pregunta 3.**  \n",
        "\n",
        "Busca e imprime todas las palabras que están escritas totalmente en mayúsculas. Cada coincidencia debe ser una sola palabra.\n",
        "\n",
        "Indica cuántas palabras encontraste.\n",
        "\n"
      ],
      "metadata": {
        "id": "-s3okBqL96TT"
      }
    },
    {
      "cell_type": "code",
      "source": [
        "\n",
        "re.findall(r\"\\b[A-Z]+\\S\\b\", 'WOW nO Not NotEither YES FLY!!!!!!!! NO...')"
      ],
      "metadata": {
        "id": "yKHJkZKo_nW5",
        "colab": {
          "base_uri": "https://localhost:8080/"
        },
        "outputId": "3142fdbf-d4a4-4986-be3a-ed3e44acb327"
      },
      "execution_count": null,
      "outputs": [
        {
          "output_type": "execute_result",
          "data": {
            "text/plain": [
              "['WOW', 'YES', 'FLY', 'NO']"
            ]
          },
          "metadata": {},
          "execution_count": 12
        }
      ]
    },
    {
      "cell_type": "code",
      "source": [
        "P3 = re.findall(r\"\\b[A-Z]+\\b\", singleDoc)\n",
        "print(\"# de Coincidencias: \",len(P3))\n",
        "P3"
      ],
      "metadata": {
        "colab": {
          "base_uri": "https://localhost:8080/"
        },
        "id": "LDp3PpL2Spq1",
        "outputId": "ef824068-83bb-4d72-e8ab-e90609a3d0a3"
      },
      "execution_count": null,
      "outputs": [
        {
          "output_type": "stream",
          "name": "stdout",
          "text": [
            "# de Coincidencias:  455\n"
          ]
        },
        {
          "output_type": "execute_result",
          "data": {
            "text/plain": [
              "['I',\n",
              " 'I',\n",
              " 'THAT',\n",
              " 'A',\n",
              " 'I',\n",
              " 'I',\n",
              " 'I',\n",
              " 'I',\n",
              " 'I',\n",
              " 'I',\n",
              " 'I',\n",
              " 'I',\n",
              " 'I',\n",
              " 'I',\n",
              " 'I',\n",
              " 'I',\n",
              " 'APPETIZERS',\n",
              " 'A',\n",
              " 'I',\n",
              " 'I',\n",
              " 'I',\n",
              " 'I',\n",
              " 'I',\n",
              " 'I',\n",
              " 'I',\n",
              " 'WILL',\n",
              " 'NEVER',\n",
              " 'EVER',\n",
              " 'STEP',\n",
              " 'FORWARD',\n",
              " 'IN',\n",
              " 'IT',\n",
              " 'AGAIN',\n",
              " 'I',\n",
              " 'LOVED',\n",
              " 'I',\n",
              " 'AND',\n",
              " 'REAL',\n",
              " 'I',\n",
              " 'I',\n",
              " 'I',\n",
              " 'I',\n",
              " 'BITCHES',\n",
              " 'I',\n",
              " 'I',\n",
              " 'I',\n",
              " 'I',\n",
              " 'NYC',\n",
              " 'I',\n",
              " 'I',\n",
              " 'I',\n",
              " 'I',\n",
              " 'I',\n",
              " 'I',\n",
              " 'I',\n",
              " 'STALE',\n",
              " 'I',\n",
              " 'I',\n",
              " 'DELICIOUS',\n",
              " 'I',\n",
              " 'I',\n",
              " 'I',\n",
              " 'I',\n",
              " 'I',\n",
              " 'I',\n",
              " 'I',\n",
              " 'I',\n",
              " 'I',\n",
              " 'I',\n",
              " 'I',\n",
              " 'I',\n",
              " 'I',\n",
              " 'I',\n",
              " 'I',\n",
              " 'WORST',\n",
              " 'EXPERIENCE',\n",
              " 'EVER',\n",
              " 'I',\n",
              " 'ALL',\n",
              " 'I',\n",
              " 'BARGAIN',\n",
              " 'I',\n",
              " 'TV',\n",
              " 'NONE',\n",
              " 'I',\n",
              " 'M',\n",
              " 'FREEZING',\n",
              " 'AYCE',\n",
              " 'I',\n",
              " 'I',\n",
              " 'I',\n",
              " 'I',\n",
              " 'I',\n",
              " 'I',\n",
              " 'I',\n",
              " 'I',\n",
              " 'I',\n",
              " 'I',\n",
              " 'I',\n",
              " 'I',\n",
              " 'I',\n",
              " 'FLAVOR',\n",
              " 'I',\n",
              " 'I',\n",
              " 'I',\n",
              " 'I',\n",
              " 'I',\n",
              " 'I',\n",
              " 'I',\n",
              " 'I',\n",
              " 'I',\n",
              " 'I',\n",
              " 'I',\n",
              " 'I',\n",
              " 'I',\n",
              " 'I',\n",
              " 'I',\n",
              " 'I',\n",
              " 'I',\n",
              " 'I',\n",
              " 'NEVER',\n",
              " 'I',\n",
              " 'I',\n",
              " 'I',\n",
              " 'I',\n",
              " 'BBQ',\n",
              " 'I',\n",
              " 'A',\n",
              " 'I',\n",
              " 'UNREAL',\n",
              " 'I',\n",
              " 'I',\n",
              " 'I',\n",
              " 'I',\n",
              " 'I',\n",
              " 'I',\n",
              " 'OMG',\n",
              " 'I',\n",
              " 'BETTER',\n",
              " 'I',\n",
              " 'I',\n",
              " 'BLAND',\n",
              " 'I',\n",
              " 'I',\n",
              " 'I',\n",
              " 'I',\n",
              " 'I',\n",
              " 'I',\n",
              " 'I',\n",
              " 'RUDE',\n",
              " 'INCONSIDERATE',\n",
              " 'MANAGEMENT',\n",
              " 'I',\n",
              " 'I',\n",
              " 'WILL',\n",
              " 'NEVER',\n",
              " 'EVER',\n",
              " 'GO',\n",
              " 'BACK',\n",
              " 'AND',\n",
              " 'HAVE',\n",
              " 'TOLD',\n",
              " 'MANY',\n",
              " 'PEOPLE',\n",
              " 'WHAT',\n",
              " 'HAD',\n",
              " 'HAPPENED',\n",
              " 'I',\n",
              " 'I',\n",
              " 'I',\n",
              " 'I',\n",
              " 'I',\n",
              " 'I',\n",
              " 'I',\n",
              " 'I',\n",
              " 'I',\n",
              " 'I',\n",
              " 'I',\n",
              " 'I',\n",
              " 'I',\n",
              " 'TOTAL',\n",
              " 'WASTE',\n",
              " 'OF',\n",
              " 'TIME',\n",
              " 'I',\n",
              " 'I',\n",
              " 'I',\n",
              " 'I',\n",
              " 'I',\n",
              " 'I',\n",
              " 'I',\n",
              " 'I',\n",
              " 'I',\n",
              " 'I',\n",
              " 'I',\n",
              " 'I',\n",
              " 'I',\n",
              " 'I',\n",
              " 'I',\n",
              " 'FS',\n",
              " 'I',\n",
              " 'I',\n",
              " 'I',\n",
              " 'I',\n",
              " 'I',\n",
              " 'I',\n",
              " 'I',\n",
              " 'I',\n",
              " 'I',\n",
              " 'AZ',\n",
              " 'I',\n",
              " 'I',\n",
              " 'I',\n",
              " 'I',\n",
              " 'LOVED',\n",
              " 'I',\n",
              " 'I',\n",
              " 'I',\n",
              " 'I',\n",
              " 'I',\n",
              " 'I',\n",
              " 'CONCLUSION',\n",
              " 'I',\n",
              " 'I',\n",
              " 'I',\n",
              " 'I',\n",
              " 'I',\n",
              " 'I',\n",
              " 'BEST',\n",
              " 'I',\n",
              " 'GO',\n",
              " 'NOW',\n",
              " 'A',\n",
              " 'I',\n",
              " 'I',\n",
              " 'GC',\n",
              " 'I',\n",
              " 'I',\n",
              " 'I',\n",
              " 'I',\n",
              " 'I',\n",
              " 'I',\n",
              " 'I',\n",
              " 'I',\n",
              " 'I',\n",
              " 'I',\n",
              " 'I',\n",
              " 'AVOID',\n",
              " 'THIS',\n",
              " 'ESTABLISHMENT',\n",
              " 'I',\n",
              " 'I',\n",
              " 'I',\n",
              " 'A',\n",
              " 'I',\n",
              " 'I',\n",
              " 'AN',\n",
              " 'HOUR',\n",
              " 'I',\n",
              " 'I',\n",
              " 'I',\n",
              " 'I',\n",
              " 'I',\n",
              " 'I',\n",
              " 'I',\n",
              " 'I',\n",
              " 'NASTY',\n",
              " 'OMG',\n",
              " 'I',\n",
              " 'I',\n",
              " 'NO',\n",
              " 'I',\n",
              " 'I',\n",
              " 'I',\n",
              " 'BEST',\n",
              " 'I',\n",
              " 'I',\n",
              " 'I',\n",
              " 'I',\n",
              " 'THE',\n",
              " 'OWNERS',\n",
              " 'REALLY',\n",
              " 'REALLY',\n",
              " 'I',\n",
              " 'I',\n",
              " 'I',\n",
              " 'I',\n",
              " 'I',\n",
              " 'I',\n",
              " 'I',\n",
              " 'I',\n",
              " 'I',\n",
              " 'I',\n",
              " 'I',\n",
              " 'I',\n",
              " 'PERFECT',\n",
              " 'SCREAMS',\n",
              " 'LEGIT',\n",
              " 'I',\n",
              " 'MGM',\n",
              " 'I',\n",
              " 'I',\n",
              " 'I',\n",
              " 'A',\n",
              " 'I',\n",
              " 'I',\n",
              " 'I',\n",
              " 'I',\n",
              " 'I',\n",
              " 'I',\n",
              " 'I',\n",
              " 'I',\n",
              " 'I',\n",
              " 'I',\n",
              " 'I',\n",
              " 'I',\n",
              " 'BEST',\n",
              " 'I',\n",
              " 'I',\n",
              " 'T',\n",
              " 'A',\n",
              " 'FLY',\n",
              " 'A',\n",
              " 'FLY',\n",
              " 'I',\n",
              " 'I',\n",
              " 'I',\n",
              " 'I',\n",
              " 'I',\n",
              " 'I',\n",
              " 'I',\n",
              " 'I',\n",
              " 'I',\n",
              " 'I',\n",
              " 'I',\n",
              " 'I',\n",
              " 'FANTASTIC',\n",
              " 'I',\n",
              " 'I',\n",
              " 'I',\n",
              " 'I',\n",
              " 'GREAT',\n",
              " 'OK',\n",
              " 'I',\n",
              " 'I',\n",
              " 'WAY',\n",
              " 'I',\n",
              " 'I',\n",
              " 'MUST',\n",
              " 'HAVE',\n",
              " 'I',\n",
              " 'I',\n",
              " 'I',\n",
              " 'I',\n",
              " 'I',\n",
              " 'I',\n",
              " 'OK',\n",
              " 'I',\n",
              " 'I',\n",
              " 'I',\n",
              " 'I',\n",
              " 'OVERPRICED',\n",
              " 'I',\n",
              " 'I',\n",
              " 'I',\n",
              " 'I',\n",
              " 'I',\n",
              " 'I',\n",
              " 'I',\n",
              " 'I',\n",
              " 'I',\n",
              " 'I',\n",
              " 'I',\n",
              " 'I',\n",
              " 'I',\n",
              " 'I',\n",
              " 'I',\n",
              " 'I',\n",
              " 'I',\n",
              " 'I',\n",
              " 'I',\n",
              " 'I',\n",
              " 'I',\n",
              " 'I',\n",
              " 'I',\n",
              " 'I',\n",
              " 'I',\n",
              " 'BARE',\n",
              " 'HANDS',\n",
              " 'I',\n",
              " 'I',\n",
              " 'I',\n",
              " 'I',\n",
              " 'I',\n",
              " 'I',\n",
              " 'I',\n",
              " 'I',\n",
              " 'I',\n",
              " 'I',\n",
              " 'I',\n",
              " 'I',\n",
              " 'I',\n",
              " 'I',\n",
              " 'I',\n",
              " 'WEAK',\n",
              " 'I',\n",
              " 'I',\n",
              " 'I',\n",
              " 'I',\n",
              " 'I',\n",
              " 'I',\n",
              " 'I',\n",
              " 'I',\n",
              " 'SHOULD',\n",
              " 'I',\n",
              " 'I',\n",
              " 'I',\n",
              " 'RI',\n",
              " 'I',\n",
              " 'I',\n",
              " 'I',\n",
              " 'I',\n",
              " 'I',\n",
              " 'I',\n",
              " 'I',\n",
              " 'VERY',\n",
              " 'I',\n",
              " 'I',\n",
              " 'I',\n",
              " 'NOT',\n",
              " 'I',\n",
              " 'I',\n",
              " 'I',\n",
              " 'I',\n",
              " 'I',\n",
              " 'I',\n",
              " 'I',\n",
              " 'I',\n",
              " 'I',\n",
              " 'I',\n",
              " 'I',\n",
              " 'I',\n",
              " 'I',\n",
              " 'I',\n",
              " 'I',\n",
              " 'I',\n",
              " 'I',\n",
              " 'I',\n",
              " 'A',\n",
              " 'I',\n",
              " 'I',\n",
              " 'I',\n",
              " 'I',\n",
              " 'I',\n",
              " 'I']"
            ]
          },
          "metadata": {},
          "execution_count": 13
        }
      ]
    },
    {
      "cell_type": "markdown",
      "source": [
        "*   **Pregunta 4.**  \n",
        "\n",
        "Busca e imprime los comentarios en donde todos los caracteres alfabéticos (letras) están en mayúsculas.\n",
        "\n",
        "Cada coincidencia encontrada debe ser todo el comentario/enunciado.\n",
        "\n",
        "Indica cuántos resultados obtuviste.\n"
      ],
      "metadata": {
        "id": "GX8eYyDoMZma"
      }
    },
    {
      "cell_type": "code",
      "source": [
        "#result4 = [re.findall(r\"\\b[^a-z]+[A-Z]+(?:\\s+[^a-z]+[A-Z]+[^a-z]+)+\\b\", line) for line in docs]\n",
        "result4 = [re.findall(r'^[A-Z\\d_\\W]+$', line) for line in docs]\n",
        "result4 = [x for x in result4 if x] #remove empty lines - no matches found\n",
        "result4"
      ],
      "metadata": {
        "colab": {
          "base_uri": "https://localhost:8080/"
        },
        "id": "P99R9M_2ejlv",
        "outputId": "82af7b06-5f7e-4825-eaa4-41dbb3cfbcaa"
      },
      "execution_count": null,
      "outputs": [
        {
          "output_type": "execute_result",
          "data": {
            "text/plain": [
              "[['DELICIOUS!!'],\n",
              " ['RUDE & INCONSIDERATE MANAGEMENT.'],\n",
              " ['WILL NEVER EVER GO BACK AND HAVE TOLD MANY PEOPLE WHAT HAD HAPPENED.'],\n",
              " ['TOTAL WASTE OF TIME.'],\n",
              " ['AVOID THIS ESTABLISHMENT!']]"
            ]
          },
          "metadata": {},
          "execution_count": 14
        }
      ]
    },
    {
      "cell_type": "code",
      "source": [
        "print(\"# de Coincidencias: \", len(result4))"
      ],
      "metadata": {
        "colab": {
          "base_uri": "https://localhost:8080/"
        },
        "id": "PT_NgNn4fHXl",
        "outputId": "6d23bada-9bda-4c47-bb7b-6907a0982361"
      },
      "execution_count": null,
      "outputs": [
        {
          "output_type": "stream",
          "name": "stdout",
          "text": [
            "# de Coincidencias:  5\n"
          ]
        }
      ]
    },
    {
      "cell_type": "markdown",
      "source": [
        "*   **Pregunta 5.**  \n",
        "\n",
        "Busca e imprime todas las palabras que tengan una vocal acentuada, del tipo á, é, í, ó, ú.\n",
        "\n",
        "Indica cuántos resultados obtuviste."
      ],
      "metadata": {
        "id": "a1i6qv7-McmU"
      }
    },
    {
      "cell_type": "code",
      "source": [
        "re.findall(r\"\\b\\w*[áéíóúÁÉÍÓÚ]+\\w*\\b\", 'WOW nO Not NotEither YES FLY!!!!!!!! NO... sí opción árbol hallé algún EXLAMACIÓN!')"
      ],
      "metadata": {
        "id": "nZZ5zKUOMeGD",
        "colab": {
          "base_uri": "https://localhost:8080/"
        },
        "outputId": "dd0ebef2-fbe4-41e7-eab6-461167cec4ab"
      },
      "execution_count": null,
      "outputs": [
        {
          "output_type": "execute_result",
          "data": {
            "text/plain": [
              "['sí', 'opción', 'árbol', 'hallé', 'algún', 'EXLAMACIÓN']"
            ]
          },
          "metadata": {},
          "execution_count": 16
        }
      ]
    },
    {
      "cell_type": "code",
      "source": [
        "P5 = re.findall(r\"\\b\\w*[áéíóúÁÉÍÓÚ]+\\w*\\b\", singleDoc)\n",
        "print(\"# de Coincidencias: \",len(P5))\n",
        "P5"
      ],
      "metadata": {
        "id": "l1mFvUEZMe8s",
        "colab": {
          "base_uri": "https://localhost:8080/"
        },
        "outputId": "373fee3f-ddd2-47b1-bd84-b2ce53176c3a"
      },
      "execution_count": null,
      "outputs": [
        {
          "output_type": "stream",
          "name": "stdout",
          "text": [
            "# de Coincidencias:  3\n"
          ]
        },
        {
          "output_type": "execute_result",
          "data": {
            "text/plain": [
              "['fiancé', 'Café', 'puréed']"
            ]
          },
          "metadata": {},
          "execution_count": 17
        }
      ]
    },
    {
      "cell_type": "code",
      "source": [
        "print(\"# de Coincidencias: \", len(P5))"
      ],
      "metadata": {
        "colab": {
          "base_uri": "https://localhost:8080/"
        },
        "id": "VQs6rCiWgizC",
        "outputId": "339a4931-a61a-4650-a031-90737eb7bb4a"
      },
      "execution_count": null,
      "outputs": [
        {
          "output_type": "stream",
          "name": "stdout",
          "text": [
            "# de Coincidencias:  3\n"
          ]
        }
      ]
    },
    {
      "cell_type": "markdown",
      "source": [
        "*   **Pregunta 6.**  \n",
        "\n",
        "Busca e imprime todas las cantidades numéricas monetarias, enteras o con decimales, que inician con el símbolo $\\$$.\n",
        "\n",
        "Indica cuántos resultados obtuviste."
      ],
      "metadata": {
        "id": "ZmPiAI82Mfb3"
      }
    },
    {
      "cell_type": "code",
      "source": [
        "re.findall(r\"\\$\\d{1,3}(?:,\\d{3})*(?:\\.\\d+)?\", '1 $1 1.5 $2.4 $3.33!!! 4.0! $5! $3.17! $127.00!! $45.00 $98.0 $12.345 $1,234,456.01wow')"
      ],
      "metadata": {
        "colab": {
          "base_uri": "https://localhost:8080/"
        },
        "id": "PykJ1EmxUWLS",
        "outputId": "ac2a604e-15e1-4a67-a526-13e1f36e8093"
      },
      "execution_count": null,
      "outputs": [
        {
          "output_type": "execute_result",
          "data": {
            "text/plain": [
              "['$1',\n",
              " '$2.4',\n",
              " '$3.33',\n",
              " '$5',\n",
              " '$3.17',\n",
              " '$127.00',\n",
              " '$45.00',\n",
              " '$98.0',\n",
              " '$12.345',\n",
              " '$1,234,456.01']"
            ]
          },
          "metadata": {},
          "execution_count": 42
        }
      ]
    },
    {
      "cell_type": "code",
      "source": [
        "P6 = re.findall(r\"\\$\\d{1,3}(?:,\\d{3})*(?:\\.\\d+)?\", singleDoc)\n",
        "print(\"# de Coincidencias: \",len(P6))\n",
        "P6"
      ],
      "metadata": {
        "colab": {
          "base_uri": "https://localhost:8080/"
        },
        "id": "Xw3EYMXbTTIi",
        "outputId": "44b32a5b-70bc-49f1-90e7-18eaedada4d1"
      },
      "execution_count": null,
      "outputs": [
        {
          "output_type": "stream",
          "name": "stdout",
          "text": [
            "# de Coincidencias:  8\n"
          ]
        },
        {
          "output_type": "execute_result",
          "data": {
            "text/plain": [
              "['$20', '$4.00', '$17', '$3', '$35', '$7.85', '$12', '$11.99']"
            ]
          },
          "metadata": {},
          "execution_count": 43
        }
      ]
    },
    {
      "cell_type": "code",
      "source": [
        "print(\"# de Coincidencias: \", len(P6))"
      ],
      "metadata": {
        "id": "6vhe9-Y-MhL9",
        "colab": {
          "base_uri": "https://localhost:8080/"
        },
        "outputId": "23568c55-fc31-49e3-ab78-db5b39032826"
      },
      "execution_count": null,
      "outputs": [
        {
          "output_type": "stream",
          "name": "stdout",
          "text": [
            "# de Coincidencias:  8\n"
          ]
        }
      ]
    },
    {
      "cell_type": "markdown",
      "source": [
        "*   **Pregunta 7.**  \n",
        "\n",
        "Busca e imprime todas las palabras que sean variantes de la palabra \"love\", sin importar si incluyen mayúsculas o minúsculas, o la manera en que esté conjugada o alguna otra variación que se haga con dicha palabra.\n",
        "\n",
        "Indica cuántos resultados obtuviste."
      ],
      "metadata": {
        "id": "2j-HpvhwMhq2"
      }
    },
    {
      "cell_type": "code",
      "source": [
        "re.findall(r\"\\b[(L|l)+(O|o)+(V|v)+(E|e)+]\\D*?\\b\", 'love looove loveeee lllooovvveee home sdedrelovedada LOVE loved LOVED LOVER LoVe lOvE lovers overwhelmed')"
      ],
      "metadata": {
        "id": "UXd0VQluMj_x",
        "colab": {
          "base_uri": "https://localhost:8080/"
        },
        "outputId": "a7c914a1-ba94-48c8-9327-6bd28390d626"
      },
      "execution_count": null,
      "outputs": [
        {
          "output_type": "execute_result",
          "data": {
            "text/plain": [
              "['love',\n",
              " 'looove',\n",
              " 'loveeee',\n",
              " 'lllooovvveee',\n",
              " 'LOVE',\n",
              " 'loved',\n",
              " 'LOVED',\n",
              " 'LOVER',\n",
              " 'LoVe',\n",
              " 'lOvE',\n",
              " 'lovers',\n",
              " 'overwhelmed']"
            ]
          },
          "metadata": {},
          "execution_count": 75
        }
      ]
    },
    {
      "cell_type": "code",
      "source": [
        "P7 = re.findall(r\"\\b[(L|l)+][(O|o)+][(V|v)+][(E|e)+]\\D*?\\b\", singleDoc)\n",
        "print(\"# de Coincidencias: \",len(P7))\n",
        "P7"
      ],
      "metadata": {
        "id": "A8Nf3B_cMlqg",
        "colab": {
          "base_uri": "https://localhost:8080/"
        },
        "outputId": "cf6a841a-33b7-4710-d510-8e44ffcb3ed4"
      },
      "execution_count": null,
      "outputs": [
        {
          "output_type": "stream",
          "name": "stdout",
          "text": [
            "# de Coincidencias:  35\n"
          ]
        },
        {
          "output_type": "execute_result",
          "data": {
            "text/plain": [
              "['Loved',\n",
              " 'loved',\n",
              " 'Loved',\n",
              " 'love',\n",
              " 'loves',\n",
              " 'LOVED',\n",
              " 'lovers',\n",
              " 'love',\n",
              " 'lovers',\n",
              " 'Love',\n",
              " 'loved',\n",
              " 'loved',\n",
              " 'love',\n",
              " 'love',\n",
              " 'love',\n",
              " 'loved',\n",
              " 'love',\n",
              " 'loved',\n",
              " 'Love',\n",
              " 'LOVED',\n",
              " 'love',\n",
              " 'lovely',\n",
              " 'love',\n",
              " 'lovely',\n",
              " 'love',\n",
              " 'lover',\n",
              " 'loved',\n",
              " 'love',\n",
              " 'love',\n",
              " 'love',\n",
              " 'love',\n",
              " 'love',\n",
              " 'love',\n",
              " 'love',\n",
              " 'love']"
            ]
          },
          "metadata": {},
          "execution_count": 79
        }
      ]
    },
    {
      "cell_type": "code",
      "source": [
        "print(\"# de Coincidencias: \", len(P7))"
      ],
      "metadata": {
        "colab": {
          "base_uri": "https://localhost:8080/"
        },
        "id": "fTyinjMWaZGq",
        "outputId": "17a641cf-91d6-43e5-e6c8-daf71fc71739"
      },
      "execution_count": null,
      "outputs": [
        {
          "output_type": "stream",
          "name": "stdout",
          "text": [
            "# de Coincidencias:  35\n"
          ]
        }
      ]
    },
    {
      "cell_type": "markdown",
      "source": [
        "*   **Pregunta 8.**  \n",
        "\n",
        "Busca e imprime todas las palabras, variantes de \"so\" y \"good\", que tengan dos o más \"o\" en \"so\" y 3 o más \"o\" en good.\n",
        "\n",
        "Indica cuántas encontraste.\n"
      ],
      "metadata": {
        "id": "Ctb-NTY3MkYG"
      }
    },
    {
      "cell_type": "code",
      "source": [
        "re.findall(r\"\\b[(S|s)][(O|o)]{2}|[(G|g)][(O|o)]{3}[(D|d)]\\b\", 'so good So sO sOo SoOo GoD gOoOd !so! !good! !So! !sO! !sOo. !SoOo. !GoD. !gOoOd.')"
      ],
      "metadata": {
        "id": "svS4-vvPMl6f",
        "colab": {
          "base_uri": "https://localhost:8080/"
        },
        "outputId": "a0679107-6d7e-4d15-99d1-85b40c3df29e"
      },
      "execution_count": null,
      "outputs": [
        {
          "output_type": "execute_result",
          "data": {
            "text/plain": [
              "['sOo', 'SoO', 'gOoOd', 'sOo', 'SoO', 'gOoOd']"
            ]
          },
          "metadata": {},
          "execution_count": 90
        }
      ]
    },
    {
      "cell_type": "code",
      "source": [
        "P8 = re.findall(r\"\\b[(S|s)][(O|o)]{2}|[(G|g)][(O|o)]{3}[(D|d)]\\b\", singleDoc)\n",
        "print(\"# de Coincidencias: \",len(P8))\n",
        "P8"
      ],
      "metadata": {
        "colab": {
          "base_uri": "https://localhost:8080/"
        },
        "id": "ltkcMPrScS3G",
        "outputId": "9e8a86c2-22e3-4a1a-a56e-e3508d6b0b98"
      },
      "execution_count": null,
      "outputs": [
        {
          "output_type": "stream",
          "name": "stdout",
          "text": [
            "# de Coincidencias:  13\n"
          ]
        },
        {
          "output_type": "execute_result",
          "data": {
            "text/plain": [
              "['Soo',\n",
              " 'soo',\n",
              " 'soo',\n",
              " 'soo',\n",
              " 'soo',\n",
              " 'soo',\n",
              " 'soo',\n",
              " 'soo',\n",
              " 'soo',\n",
              " 'soo',\n",
              " 'soo',\n",
              " 'soo',\n",
              " 'soo']"
            ]
          },
          "metadata": {},
          "execution_count": 91
        }
      ]
    },
    {
      "cell_type": "code",
      "source": [
        "P8_2 = re.findall(r\"\\b[(S|s)][(O|o)]{2}|[(G|g)][(O|o)]{3}[(D|d)]+\\b\", singleDoc)\n",
        "print(\"# de Coincidencias: \",len(P8_2))\n",
        "P8_2"
      ],
      "metadata": {
        "colab": {
          "base_uri": "https://localhost:8080/"
        },
        "id": "csYPPlivcRu4",
        "outputId": "a97cbc3a-ec4d-4a35-d542-f9f44dc786cd"
      },
      "execution_count": null,
      "outputs": [
        {
          "output_type": "stream",
          "name": "stdout",
          "text": [
            "# de Coincidencias:  14\n"
          ]
        },
        {
          "output_type": "execute_result",
          "data": {
            "text/plain": [
              "['Soo',\n",
              " 'soo',\n",
              " 'soo',\n",
              " 'soo',\n",
              " 'soo',\n",
              " 'gooodd',\n",
              " 'soo',\n",
              " 'soo',\n",
              " 'soo',\n",
              " 'soo',\n",
              " 'soo',\n",
              " 'soo',\n",
              " 'soo',\n",
              " 'soo']"
            ]
          },
          "metadata": {},
          "execution_count": 93
        }
      ]
    },
    {
      "cell_type": "markdown",
      "source": [
        "*   **Pregunta 9.**  \n",
        "\n",
        "Busca e imprime todas las palabras que tengan una longitud mayor estrictamente a 10 caracteres alfabéticos.\n",
        "\n",
        "No se consideran los signos de puntuación o caracteres especiales en la longitud de estas cadenas, solo caracteres alfabéticos en mayúsculas o minúsculas.\n",
        "\n",
        "Indica la cantidad de palabras encontradas.\n"
      ],
      "metadata": {
        "id": "hkak1opjMmlk"
      }
    },
    {
      "cell_type": "code",
      "source": [
        "P9 = re.findall(r\"\\b\\w{11}\\w?\\b\", singleDoc)\n",
        "print(\"# de Coincidencias: \",len(P9))\n",
        "P9"
      ],
      "metadata": {
        "id": "PYxdp3uhMoD0",
        "colab": {
          "base_uri": "https://localhost:8080/"
        },
        "outputId": "7b09cf4c-42f4-4457-f112-5ade3df57c0a"
      },
      "execution_count": null,
      "outputs": [
        {
          "output_type": "stream",
          "name": "stdout",
          "text": [
            "# de Coincidencias:  107\n"
          ]
        },
        {
          "output_type": "execute_result",
          "data": {
            "text/plain": [
              "['recommended',\n",
              " 'overwhelmed',\n",
              " 'inexpensive',\n",
              " 'imaginative',\n",
              " 'opportunity',\n",
              " 'experiencing',\n",
              " 'relationship',\n",
              " 'unsatisfying',\n",
              " 'outrageously',\n",
              " 'expectations',\n",
              " 'restaurants',\n",
              " 'suggestions',\n",
              " 'disappointed',\n",
              " 'considering',\n",
              " 'immediately',\n",
              " 'ingredients',\n",
              " 'maintaining',\n",
              " 'Interesting',\n",
              " 'disrespected',\n",
              " 'accordingly',\n",
              " 'unbelievable',\n",
              " 'cheeseburger',\n",
              " 'descriptions',\n",
              " 'inexpensive',\n",
              " 'disappointed',\n",
              " 'Veggitarian',\n",
              " 'outstanding',\n",
              " 'disappointed',\n",
              " 'disappointed',\n",
              " 'neighborhood',\n",
              " 'disappointed',\n",
              " 'corporation',\n",
              " 'considering',\n",
              " 'exceptional',\n",
              " 'disappointed',\n",
              " 'vinaigrette',\n",
              " 'immediately',\n",
              " 'unbelievably',\n",
              " 'replenished',\n",
              " 'disappointed',\n",
              " 'enthusiastic',\n",
              " 'Outstanding',\n",
              " 'comfortable',\n",
              " 'interesting',\n",
              " 'considering',\n",
              " 'transcendant',\n",
              " 'disappointed',\n",
              " 'disappointed',\n",
              " 'overwhelmed',\n",
              " 'professional',\n",
              " 'Furthermore',\n",
              " 'combination',\n",
              " 'connoisseur',\n",
              " 'profiterole',\n",
              " 'outstanding',\n",
              " 'acknowledged',\n",
              " 'ventilation',\n",
              " 'beautifully',\n",
              " 'disappointed',\n",
              " 'cheesecurds',\n",
              " 'disappointed',\n",
              " 'interesting',\n",
              " 'experienced',\n",
              " 'opportunity',\n",
              " 'disgraceful',\n",
              " 'restaurants',\n",
              " 'recommended',\n",
              " 'disappointed',\n",
              " 'recommended',\n",
              " 'acknowledged',\n",
              " 'presentation',\n",
              " 'Philadelphia',\n",
              " 'disappointed',\n",
              " 'grandmother',\n",
              " 'drastically',\n",
              " 'informative',\n",
              " 'Disappointed',\n",
              " 'constructed',\n",
              " 'comfortable',\n",
              " 'Smashburger',\n",
              " 'cheeseburger',\n",
              " 'neighborhood',\n",
              " 'disappointed',\n",
              " 'hospitality',\n",
              " 'recommending',\n",
              " 'disappointed',\n",
              " 'deliciously',\n",
              " 'compliments',\n",
              " 'calligraphy',\n",
              " 'traditional',\n",
              " 'combination',\n",
              " 'considering',\n",
              " 'highlighted',\n",
              " 'anticipated',\n",
              " 'disrespected',\n",
              " 'professional',\n",
              " 'restaurants',\n",
              " 'reservation',\n",
              " 'imagination',\n",
              " 'undercooked',\n",
              " 'disappointed',\n",
              " 'disappointed',\n",
              " 'immediately',\n",
              " 'undercooked',\n",
              " 'caterpillar',\n",
              " 'presentation',\n",
              " 'disappointed']"
            ]
          },
          "metadata": {},
          "execution_count": 96
        }
      ]
    },
    {
      "cell_type": "code",
      "source": [
        "P9 = re.findall(r\"\\b\\w{10}\\w?\\b\\b\", singleDoc)\n",
        "print(\"# de Coincidencias: \",len(P9))\n",
        "P9"
      ],
      "metadata": {
        "id": "BR7e2F4FMof-",
        "colab": {
          "base_uri": "https://localhost:8080/"
        },
        "outputId": "45792377-54d2-4b66-e8fb-46a3d3199e7d"
      },
      "execution_count": null,
      "outputs": [
        {
          "output_type": "stream",
          "name": "stdout",
          "text": [
            "# de Coincidencias:  282\n"
          ]
        },
        {
          "output_type": "execute_result",
          "data": {
            "text/plain": [
              "['overpriced',\n",
              " 'recommended',\n",
              " 'restaurant',\n",
              " 'overwhelmed',\n",
              " 'restaurant',\n",
              " 'inexpensive',\n",
              " 'refreshing',\n",
              " 'sunglasses',\n",
              " 'imaginative',\n",
              " 'absolutely',\n",
              " 'restaurant',\n",
              " 'APPETIZERS',\n",
              " 'definitely',\n",
              " 'apparently',\n",
              " 'opportunity',\n",
              " 'Everything',\n",
              " 'experience',\n",
              " 'Tigerlilly',\n",
              " 'personable',\n",
              " 'restaurant',\n",
              " 'definitely',\n",
              " 'atmosphere',\n",
              " 'experience',\n",
              " 'Phenomenal',\n",
              " 'Definitely',\n",
              " 'overpriced',\n",
              " 'management',\n",
              " 'selections',\n",
              " 'restaurants',\n",
              " 'suggestions',\n",
              " 'considering',\n",
              " 'restaurant',\n",
              " 'highlights',\n",
              " 'everything',\n",
              " 'immediately',\n",
              " 'reasonably',\n",
              " 'Restaurant',\n",
              " 'ingredients',\n",
              " 'waitresses',\n",
              " 'Everything',\n",
              " 'vegetarian',\n",
              " 'atmosphere',\n",
              " 'maintaining',\n",
              " 'definitely',\n",
              " 'absolutely',\n",
              " 'overcooked',\n",
              " 'incredible',\n",
              " 'Interesting',\n",
              " 'EXPERIENCE',\n",
              " 'accordingly',\n",
              " 'uninspired',\n",
              " 'experience',\n",
              " 'flavourful',\n",
              " 'restaurant',\n",
              " 'privileged',\n",
              " 'complaints',\n",
              " 'godfathers',\n",
              " 'restaurant',\n",
              " 'atmosphere',\n",
              " 'inexpensive',\n",
              " 'absolutely',\n",
              " 'proclaimed',\n",
              " 'Veggitarian',\n",
              " 'outstanding',\n",
              " 'restaurant',\n",
              " 'definitely',\n",
              " 'incredible',\n",
              " 'convenient',\n",
              " 'incredibly',\n",
              " 'everything',\n",
              " 'corporation',\n",
              " 'delightful',\n",
              " 'reasonable',\n",
              " 'considering',\n",
              " 'exceptional',\n",
              " 'vinaigrette',\n",
              " 'restaurant',\n",
              " 'especially',\n",
              " 'immediately',\n",
              " 'atmosphere',\n",
              " 'Everything',\n",
              " 'replenished',\n",
              " 'whatsoever',\n",
              " 'vegetables',\n",
              " 'atmosphere',\n",
              " 'appetizers',\n",
              " 'Outstanding',\n",
              " 'restaurant',\n",
              " 'Definitely',\n",
              " 'despicable',\n",
              " 'comfortable',\n",
              " 'interesting',\n",
              " 'MANAGEMENT',\n",
              " 'outshining',\n",
              " 'definitely',\n",
              " 'experience',\n",
              " 'experience',\n",
              " 'reasonable',\n",
              " 'considering',\n",
              " 'incredible',\n",
              " 'atmosphere',\n",
              " 'perfection',\n",
              " 'impeccable',\n",
              " 'accountant',\n",
              " 'frustrated',\n",
              " 'definitely',\n",
              " 'completely',\n",
              " 'overwhelmed',\n",
              " 'companions',\n",
              " 'everything',\n",
              " 'everywhere',\n",
              " 'Furthermore',\n",
              " 'complaints',\n",
              " 'connisseur',\n",
              " 'restaurant',\n",
              " 'absolutley',\n",
              " 'definitely',\n",
              " 'restaurant',\n",
              " 'combination',\n",
              " 'connoisseur',\n",
              " 'definitely',\n",
              " 'difference',\n",
              " 'Definitely',\n",
              " 'profiterole',\n",
              " 'outstanding',\n",
              " 'reasonable',\n",
              " 'forgetting',\n",
              " 'margaritas',\n",
              " 'disappoint',\n",
              " 'ventilation',\n",
              " 'beautifully',\n",
              " 'definitely',\n",
              " 'absolutely',\n",
              " 'restaurant',\n",
              " 'humiliated',\n",
              " 'CONCLUSION',\n",
              " 'experience',\n",
              " 'incredible',\n",
              " 'Thoroughly',\n",
              " 'cheesecurds',\n",
              " 'Reasonably',\n",
              " 'Everything',\n",
              " 'restaurant',\n",
              " 'Everything',\n",
              " 'interesting',\n",
              " 'management',\n",
              " 'restaurant',\n",
              " 'experienced',\n",
              " 'opportunity',\n",
              " 'yellowtail',\n",
              " 'disgraceful',\n",
              " 'experience',\n",
              " 'particular',\n",
              " 'restaurants',\n",
              " 'restaurant',\n",
              " 'vinegrette',\n",
              " 'disgusting',\n",
              " 'recommended',\n",
              " 'management',\n",
              " 'recommended',\n",
              " 'accomodate',\n",
              " 'satisfying',\n",
              " 'Scottsdale',\n",
              " 'definitely',\n",
              " 'businesses',\n",
              " 'experience',\n",
              " 'management',\n",
              " 'grandmother',\n",
              " 'especially',\n",
              " 'drastically',\n",
              " 'impeccable',\n",
              " 'informative',\n",
              " 'Experience',\n",
              " 'constructed',\n",
              " 'comfortable',\n",
              " 'restaurant',\n",
              " 'experience',\n",
              " 'atmosphere',\n",
              " 'violinists',\n",
              " 'personally',\n",
              " 'convenient',\n",
              " 'perfection',\n",
              " 'Smashburger',\n",
              " 'disappoint',\n",
              " 'themselves',\n",
              " 'atmosphere',\n",
              " 'reasonable',\n",
              " 'soundtrack',\n",
              " 'absolutely',\n",
              " 'definitely',\n",
              " 'definitely',\n",
              " 'hospitality',\n",
              " 'atmosphere',\n",
              " 'atmosphere',\n",
              " 'everything',\n",
              " 'deliciously',\n",
              " 'compliments',\n",
              " 'definitely',\n",
              " 'revisiting',\n",
              " 'restaurant',\n",
              " 'experience',\n",
              " 'calligraphy',\n",
              " 'restaurant',\n",
              " 'restaurant',\n",
              " 'vegetarian',\n",
              " 'management',\n",
              " 'vinegrette',\n",
              " 'definitely',\n",
              " 'definately',\n",
              " 'affordable',\n",
              " 'absolutely',\n",
              " 'traditional',\n",
              " 'bartenders',\n",
              " 'absolutely',\n",
              " 'margaritas',\n",
              " 'restaraunt',\n",
              " 'combination',\n",
              " 'girlfriend',\n",
              " 'experience',\n",
              " 'flavorless',\n",
              " 'describing',\n",
              " 'everything',\n",
              " 'atmosphere',\n",
              " 'vegetables',\n",
              " 'overcooked',\n",
              " 'bruschetta',\n",
              " 'mozzarella',\n",
              " 'experience',\n",
              " 'overpriced',\n",
              " 'consistent',\n",
              " 'OVERPRICED',\n",
              " 'officially',\n",
              " 'definitely',\n",
              " 'containers',\n",
              " 'experience',\n",
              " 'considering',\n",
              " 'overpriced',\n",
              " 'especially',\n",
              " 'reasonable',\n",
              " 'restaurant',\n",
              " 'Everything',\n",
              " 'sandwiches',\n",
              " 'everything',\n",
              " 'restaurant',\n",
              " 'highlighted',\n",
              " 'completely',\n",
              " 'delightful',\n",
              " 'experience',\n",
              " 'flavorless',\n",
              " 'definately',\n",
              " 'Albondigas',\n",
              " 'absolutely',\n",
              " 'selections',\n",
              " 'strawberry',\n",
              " 'experience',\n",
              " 'satisfying',\n",
              " 'occasional',\n",
              " 'anticipated',\n",
              " 'steakhouse',\n",
              " 'understand',\n",
              " 'experience',\n",
              " 'disgusting',\n",
              " 'restaurants',\n",
              " 'definitely',\n",
              " 'experience',\n",
              " 'ridiculous',\n",
              " 'reservation',\n",
              " 'imagination',\n",
              " 'vegetables',\n",
              " 'undercooked',\n",
              " 'overpriced',\n",
              " 'Vegetarian',\n",
              " 'restaurant',\n",
              " 'immediately',\n",
              " 'correction',\n",
              " 'Overpriced',\n",
              " 'restaurant',\n",
              " 'vegetables',\n",
              " 'undercooked',\n",
              " 'impressive',\n",
              " 'caterpillar',\n",
              " 'experience']"
            ]
          },
          "metadata": {},
          "execution_count": 97
        }
      ]
    },
    {
      "cell_type": "markdown",
      "source": [
        "*   **Pregunta 10.**  \n",
        "\n",
        "Busca e imprime todas las palabras que inician con una letra mayúscula y terminan con una minúscula, pero que además no sea la primera palabra del comentario/string.\n",
        "\n",
        "Indica la cantidad de resultados obtenidos."
      ],
      "metadata": {
        "id": "ApjTNzSxMpDc"
      }
    },
    {
      "cell_type": "code",
      "source": [
        "re.findall(r\"\\b[A-Z]{1}[a-z]+\\b\",'Stopped by during the late May bank holiday off Rick Steve recommendation and loved it.')"
      ],
      "metadata": {
        "id": "Vb0ndRGAMqdL",
        "colab": {
          "base_uri": "https://localhost:8080/"
        },
        "outputId": "803272a9-e44b-449c-da86-28e53160d559"
      },
      "execution_count": 100,
      "outputs": [
        {
          "output_type": "execute_result",
          "data": {
            "text/plain": [
              "['Stopped', 'May', 'Rick', 'Steve']"
            ]
          },
          "metadata": {},
          "execution_count": 100
        }
      ]
    },
    {
      "cell_type": "code",
      "source": [
        "\n",
        "re.findall(r\"(?<= )\\b[A-Z]{1}[a-z]+\\b\",'Stopped Test by during the late May bank holiday off Rick Steve recommendation and loved it.')"
      ],
      "metadata": {
        "id": "dLPTRPnTMqqx",
        "colab": {
          "base_uri": "https://localhost:8080/"
        },
        "outputId": "ad2f8348-c1dd-4fd7-8883-4d0eaa4981c7"
      },
      "execution_count": 111,
      "outputs": [
        {
          "output_type": "execute_result",
          "data": {
            "text/plain": [
              "['Test', 'May', 'Rick', 'Steve']"
            ]
          },
          "metadata": {},
          "execution_count": 111
        }
      ]
    },
    {
      "cell_type": "code",
      "source": [
        "result10 = [re.findall(r\"(?<= )\\b[A-Z]{1}[a-z]+\\b\", line) for line in docs]\n",
        "result10 = [x for x in result10 if x] #remove empty lines - no matches found\n",
        "result10"
      ],
      "metadata": {
        "colab": {
          "base_uri": "https://localhost:8080/"
        },
        "id": "EG3F08ZvXWzt",
        "outputId": "14eab533-f611-44f1-df0f-38851c266ad4"
      },
      "execution_count": 112,
      "outputs": [
        {
          "output_type": "execute_result",
          "data": {
            "text/plain": [
              "[['Loved'],\n",
              " ['May', 'Rick', 'Steve'],\n",
              " ['Cape', 'Cod'],\n",
              " ['Vegas'],\n",
              " ['Burrittos', 'Blah'],\n",
              " ['The'],\n",
              " ['They'],\n",
              " ['Mexican'],\n",
              " ['Luke', 'Our'],\n",
              " ['Hiro'],\n",
              " ['Firehouse'],\n",
              " ['Greek', 'Greek'],\n",
              " ['Heart', 'Attack', 'Grill', 'Vegas'],\n",
              " ['Dos', 'Gringos'],\n",
              " ['Jeff'],\n",
              " ['Really'],\n",
              " ['Excalibur'],\n",
              " ['Very', 'Bad', 'Customer', 'Service'],\n",
              " ['Vegas', 'Rice', 'Company'],\n",
              " ['Pho'],\n",
              " ['Hard', 'Rock', 'Casino'],\n",
              " ['Buffet'],\n",
              " ['Tigerlilly'],\n",
              " ['Yama'],\n",
              " ['Thai'],\n",
              " ['Indian'],\n",
              " ['Not'],\n",
              " ['Vegas'],\n",
              " ['Lox'],\n",
              " ['Subway', 'Subway'],\n",
              " ['Vegas'],\n",
              " ['Vegas'],\n",
              " ['Mandalay', 'Bay'],\n",
              " ['Great'],\n",
              " ['Voodoo'],\n",
              " ['Phoenix'],\n",
              " ['Vegas'],\n",
              " ['Khao', 'Soi'],\n",
              " ['Lemon'],\n",
              " ['Joey', 'Valley', 'Phoenix', 'Magazine'],\n",
              " ['Pho'],\n",
              " ['Fridays'],\n",
              " ['Tasty'],\n",
              " ['Jamaican'],\n",
              " ['Bisque', 'Bussell', 'Sprouts', 'Risotto', 'Filet'],\n",
              " ['Otto'],\n",
              " ['Yeah'],\n",
              " ['Honestly'],\n",
              " ['Not'],\n",
              " ['Also'],\n",
              " ['Vegas'],\n",
              " ['Greek'],\n",
              " ['Vegas'],\n",
              " ['Veggitarian'],\n",
              " ['Madison', 'Ironman'],\n",
              " ['Jenni', 'Pho'],\n",
              " ['Bachi', 'Burger'],\n",
              " ['Pizza', 'Salads'],\n",
              " ['They'],\n",
              " ['Yelpers'],\n",
              " ['Bachi'],\n",
              " ['Service'],\n",
              " ['English'],\n",
              " ['Pizza', 'Hut'],\n",
              " ['Seat'],\n",
              " ['Standard'],\n",
              " ['Thai'],\n",
              " ['Tucson'],\n",
              " ['Vegas'],\n",
              " ['Chipotle'],\n",
              " ['Gordon', 'Ramsey', 'Steak', 'Vegas'],\n",
              " ['Outstanding', 'Best', 'Food'],\n",
              " ['Lobster', 'Bisque'],\n",
              " ['Vegas'],\n",
              " ['Eggplant', 'Green', 'Bean'],\n",
              " ['Halibut'],\n",
              " ['Vegas'],\n",
              " ['Vegas'],\n",
              " ['Vegas', 'Crystals', 'Aria'],\n",
              " ['Ians'],\n",
              " ['Bouchon'],\n",
              " ['San', 'Francisco', 'Bay', 'Area'],\n",
              " ['Buldogis', 'Gourmet', 'Hot', 'Dog'],\n",
              " ['Steiners'],\n",
              " ['Carly'],\n",
              " ['Vegas'],\n",
              " ['Camelback', 'Flower', 'Shop', 'Cartel', 'Coffee'],\n",
              " ['Las', 'Vegas'],\n",
              " ['Very'],\n",
              " ['Mom'],\n",
              " ['Noca'],\n",
              " ['Vegas', 'Sat', 'Sun'],\n",
              " ['Mexican'],\n",
              " ['Frenchman'],\n",
              " ['Perfect'],\n",
              " ['Vegas'],\n",
              " ['Palm'],\n",
              " ['This'],\n",
              " ['Thai'],\n",
              " ['Toast'],\n",
              " ['Thai'],\n",
              " ['Phoenix'],\n",
              " ['Crema'],\n",
              " ['Philadelphia'],\n",
              " ['North', 'Scottsdale'],\n",
              " ['Bloody', 'Mary'],\n",
              " ['Pho'],\n",
              " ['Caesar'],\n",
              " ['Macarons'],\n",
              " ['Experience'],\n",
              " ['Very', 'Disappointed', 'Big', 'Bay', 'Plater'],\n",
              " ['Italian'],\n",
              " ['Vegas'],\n",
              " ['Baba', 'Ganoush'],\n",
              " ['Nobu'],\n",
              " ['Smashburger'],\n",
              " ['Panna', 'Cotta'],\n",
              " ['Breeze', 'Mango', 'Magic', 'Pineapple', 'Delight'],\n",
              " ['The'],\n",
              " ['Strip', 'Steak'],\n",
              " ['Paradise', 'Valley', 'Cibo'],\n",
              " ['Thumbs', 'Up'],\n",
              " ['Italian'],\n",
              " ['Pros', 'Large', 'Nice', 'Great', 'The'],\n",
              " ['Elk', 'Filet'],\n",
              " ['Dylan', 'All'],\n",
              " ['Han', 'Nan', 'Chicken'],\n",
              " ['Bar', 'Edinburgh'],\n",
              " ['Chinese'],\n",
              " ['Indian'],\n",
              " ['Chinese'],\n",
              " ['Prices'],\n",
              " ['Phoenix'],\n",
              " ['Both', 'Hot', 'Sour', 'Egg', 'Flower', 'Soups', 'Stars'],\n",
              " ['Sunday'],\n",
              " ['Hunan'],\n",
              " ['The'],\n",
              " ['Pita'],\n",
              " ['Wienerschnitzel'],\n",
              " ['Maine', 'Lobster', 'Roll'],\n",
              " ['Kabuki'],\n",
              " ['Maria'],\n",
              " ['Caballero'],\n",
              " ['Wife'],\n",
              " ['Strip'],\n",
              " ['Costco'],\n",
              " ['To', 'Place', 'Gyros'],\n",
              " ['Japanese'],\n",
              " ['Albondigas'],\n",
              " ['Mediterranean', 'Chicken', 'Salad'],\n",
              " ['Mellow', 'Mushroom'],\n",
              " ['Thai'],\n",
              " ['Vegas'],\n",
              " ['Mmmm'],\n",
              " ['Buffet', 'Bellagio'],\n",
              " ['Vegas'],\n",
              " ['Christmas', 'Eve'],\n",
              " ['Denny'],\n",
              " ['Vegetarian'],\n",
              " ['Taco'],\n",
              " ['Heimer'],\n",
              " ['Ha', 'Long', 'Bay'],\n",
              " ['Subway'],\n",
              " ['When', 'Brushfire'],\n",
              " ['Mirage'],\n",
              " ['In'],\n",
              " ['Ninja', 'Sushi']]"
            ]
          },
          "metadata": {},
          "execution_count": 112
        }
      ]
    },
    {
      "cell_type": "code",
      "source": [
        "result10_1 = [len(x) for x in result10 if x] #remove empty lines - no matches found\n",
        "print(\"# de Coincidencias: \",sum(result10_1))"
      ],
      "metadata": {
        "colab": {
          "base_uri": "https://localhost:8080/"
        },
        "id": "CJ9obsnJYhL4",
        "outputId": "88cdaa85-e19d-4e9f-8929-58ab96c32244"
      },
      "execution_count": 117,
      "outputs": [
        {
          "output_type": "stream",
          "name": "stdout",
          "text": [
            "# de Coincidencias:  266\n"
          ]
        }
      ]
    },
    {
      "cell_type": "markdown",
      "source": [
        "*   **Pregunta 11.**  \n",
        "\n",
        "Busca e imprime la secuencia de dos o más palabras que están separadas por un guion, \"-\", sin que tengan espacios en blanco entre ellas.\n",
        "\n",
        "Por ejemplo \"Go-Kart\" sería válido, pero \"Go  -Kart\" o \"Go  -  Kart\" no lo serían.\n",
        "\n",
        "Indica la cantidad de resultados obtenidos."
      ],
      "metadata": {
        "id": "u7nfm4KhMrNW"
      }
    },
    {
      "cell_type": "code",
      "source": [
        "re.findall(r\"\\b\\w+\\-\\w+\\b\",'go-kart GO-Kart GO - KART TiC-ToE. Dante-Sercam!')"
      ],
      "metadata": {
        "id": "OwU-a7eGMsub",
        "colab": {
          "base_uri": "https://localhost:8080/"
        },
        "outputId": "9e3cd579-2714-41a8-ee41-bbaacb32b317"
      },
      "execution_count": 120,
      "outputs": [
        {
          "output_type": "execute_result",
          "data": {
            "text/plain": [
              "['go-kart', 'GO-Kart', 'TiC-ToE', 'Dante-Sercam']"
            ]
          },
          "metadata": {},
          "execution_count": 120
        }
      ]
    },
    {
      "cell_type": "code",
      "source": [
        "P11 = re.findall(r\"\\b\\w+\\-\\w+\\b\", singleDoc)\n",
        "print(\"# de Coincidencias: \",len(P11))\n",
        "P11"
      ],
      "metadata": {
        "id": "SgzIL74ZMtGw",
        "colab": {
          "base_uri": "https://localhost:8080/"
        },
        "outputId": "2b8098c1-a42e-4eeb-bdff-32ac0d45ef56"
      },
      "execution_count": 122,
      "outputs": [
        {
          "output_type": "stream",
          "name": "stdout",
          "text": [
            "# de Coincidencias:  21\n"
          ]
        },
        {
          "output_type": "execute_result",
          "data": {
            "text/plain": [
              "['flat-lined',\n",
              " 'hands-down',\n",
              " 'must-stop',\n",
              " 'sub-par',\n",
              " 'Service-check',\n",
              " 'in-house',\n",
              " 'been-stepped',\n",
              " 'in-and',\n",
              " 'tracked-everywhere',\n",
              " 'multi-grain',\n",
              " 'to-go',\n",
              " 'non-customer',\n",
              " 'High-quality',\n",
              " 'sit-down',\n",
              " 'over-whelm',\n",
              " 'low-key',\n",
              " 'non-fancy',\n",
              " 'golden-crispy',\n",
              " 'over-priced',\n",
              " 'over-hip',\n",
              " 'under-services']"
            ]
          },
          "metadata": {},
          "execution_count": 122
        }
      ]
    },
    {
      "cell_type": "markdown",
      "source": [
        "*   **Pregunta 12.**  \n",
        "\n",
        "Busca e imprime todas las palabras que terminan en \"ing\" o \"ed\".\n",
        "\n",
        "Indica la cantidad de palabras que encontraste de cada una."
      ],
      "metadata": {
        "id": "DEIgl79HMthr"
      }
    },
    {
      "cell_type": "code",
      "source": [
        "re.findall(r\"\\b[\\w]+ing\\b|\\b[\\w]+ed\\b\",'standing ding ing closing closed nomatch tng closed tried ed te td')"
      ],
      "metadata": {
        "id": "I4TSofBMMv9y",
        "colab": {
          "base_uri": "https://localhost:8080/"
        },
        "outputId": "0b2bb37d-9b56-4f14-da1e-5ca792f54e9e"
      },
      "execution_count": 126,
      "outputs": [
        {
          "output_type": "execute_result",
          "data": {
            "text/plain": [
              "['standing', 'ding', 'closing', 'closed', 'closed', 'tried']"
            ]
          },
          "metadata": {},
          "execution_count": 126
        }
      ]
    },
    {
      "cell_type": "code",
      "source": [
        "P12 = re.findall(r\"\\b[\\w]+ing\\b|\\b[\\w]+ed\\b\", singleDoc)\n",
        "print(\"# de Coincidencias: \",len(P12))\n",
        "P12"
      ],
      "metadata": {
        "id": "AhGq6De2Mvyh",
        "colab": {
          "base_uri": "https://localhost:8080/"
        },
        "outputId": "1cba582c-4ce9-4fa6-c10a-f34e5781d7b8"
      },
      "execution_count": 128,
      "outputs": [
        {
          "output_type": "stream",
          "name": "stdout",
          "text": [
            "# de Coincidencias:  614\n"
          ]
        },
        {
          "output_type": "execute_result",
          "data": {
            "text/plain": [
              "['Loved',\n",
              " 'Stopped',\n",
              " 'during',\n",
              " 'loved',\n",
              " 'getting',\n",
              " 'being',\n",
              " 'ended',\n",
              " 'being',\n",
              " 'overpriced',\n",
              " 'tried',\n",
              " 'disgusted',\n",
              " 'shocked',\n",
              " 'recommended',\n",
              " 'amazing',\n",
              " 'performed',\n",
              " 'red',\n",
              " 'asked',\n",
              " 'running',\n",
              " 'overwhelmed',\n",
              " 'redeeming',\n",
              " 'grossed',\n",
              " 'melted',\n",
              " 'getting',\n",
              " 'provided',\n",
              " 'thing',\n",
              " 'cooked',\n",
              " 'dressing',\n",
              " 'refreshing',\n",
              " 'ordered',\n",
              " 'running',\n",
              " 'realized',\n",
              " 'Loved',\n",
              " 'lined',\n",
              " 'cooked',\n",
              " 'ripped',\n",
              " 'ripped',\n",
              " 'petrified',\n",
              " 'amazing',\n",
              " 'included',\n",
              " 'expected',\n",
              " 'nothing',\n",
              " 'appalling',\n",
              " 'seasoned',\n",
              " 'cheated',\n",
              " 'wasting',\n",
              " 'eating',\n",
              " 'going',\n",
              " 'Coming',\n",
              " 'experiencing',\n",
              " 'underwhelming',\n",
              " 'walked',\n",
              " 'smelled',\n",
              " 'eating',\n",
              " 'raving',\n",
              " 'tailored',\n",
              " 'spring',\n",
              " 'unsatisfying',\n",
              " 'amazing',\n",
              " 'Everything',\n",
              " 'disappointing',\n",
              " 'dining',\n",
              " 'flirting',\n",
              " 'arrived',\n",
              " 'roasted',\n",
              " 'added',\n",
              " 'thing',\n",
              " 'coming',\n",
              " 'cooked',\n",
              " 'playing',\n",
              " 'passed',\n",
              " 'ordering',\n",
              " 'arriving',\n",
              " 'liked',\n",
              " 'disappointing',\n",
              " 'managed',\n",
              " 'served',\n",
              " 'preparing',\n",
              " 'loving',\n",
              " 'liking',\n",
              " 'reviewing',\n",
              " 'venturing',\n",
              " 'overpriced',\n",
              " 'including',\n",
              " 'during',\n",
              " 'checked',\n",
              " 'disappointed',\n",
              " 'red',\n",
              " 'decorated',\n",
              " 'changing',\n",
              " 'going',\n",
              " 'considering',\n",
              " 'served',\n",
              " 'coming',\n",
              " 'watched',\n",
              " 'greeted',\n",
              " 'seated',\n",
              " 'waited',\n",
              " 'flavored',\n",
              " 'ordered',\n",
              " 'going',\n",
              " 'everything',\n",
              " 'ordered',\n",
              " 'relocated',\n",
              " 'impressed',\n",
              " 'seated',\n",
              " 'priced',\n",
              " 'looking',\n",
              " 'treated',\n",
              " 'ordered',\n",
              " 'dressing',\n",
              " 'dining',\n",
              " 'used',\n",
              " 'handed',\n",
              " 'listed',\n",
              " 'missed',\n",
              " 'Everything',\n",
              " 'thrilled',\n",
              " 'amazing',\n",
              " 'judging',\n",
              " 'inspired',\n",
              " 'desired',\n",
              " 'maintaining',\n",
              " 'asking',\n",
              " 'overcooked',\n",
              " 'decided',\n",
              " 'looked',\n",
              " 'having',\n",
              " 'dressed',\n",
              " 'treated',\n",
              " 'something',\n",
              " 'lacking',\n",
              " 'ordered',\n",
              " 'sucked',\n",
              " 'expected',\n",
              " 'sucked',\n",
              " 'imagined',\n",
              " 'Interesting',\n",
              " 'served',\n",
              " 'preparing',\n",
              " 'arrived',\n",
              " 'missing',\n",
              " 'feeling',\n",
              " 'satisfied',\n",
              " 'voted',\n",
              " 'insulted',\n",
              " 'disrespected',\n",
              " 'exceeding',\n",
              " 'dreamed',\n",
              " 'inviting',\n",
              " 'lived',\n",
              " 'stepped',\n",
              " 'mixed',\n",
              " 'showed',\n",
              " 'climbing',\n",
              " 'waiting',\n",
              " 'realized',\n",
              " 'coming',\n",
              " 'loved',\n",
              " 'being',\n",
              " 'lacking',\n",
              " 'needed',\n",
              " 'going',\n",
              " 'loved',\n",
              " 'wrapped',\n",
              " 'uninspired',\n",
              " 'amazing',\n",
              " 'dealing',\n",
              " 'annoying',\n",
              " 'Ordered',\n",
              " 'falling',\n",
              " 'uploaded',\n",
              " 'sporting',\n",
              " 'covered',\n",
              " 'supposed',\n",
              " 'amazing',\n",
              " 'rolled',\n",
              " 'stayed',\n",
              " 'providing',\n",
              " 'building',\n",
              " 'lighting',\n",
              " 'Based',\n",
              " 'received',\n",
              " 'going',\n",
              " 'nothing',\n",
              " 'privileged',\n",
              " 'working',\n",
              " 'eating',\n",
              " 'dressing',\n",
              " 'being',\n",
              " 'charged',\n",
              " 'visited',\n",
              " 'proclaimed',\n",
              " 'disappointed',\n",
              " 'Stopped',\n",
              " 'dedicated',\n",
              " 'liked',\n",
              " 'outstanding',\n",
              " 'getting',\n",
              " 'disappointed',\n",
              " 'waited',\n",
              " 'waited',\n",
              " 'burned',\n",
              " 'waited',\n",
              " 'amazing',\n",
              " 'disappointed',\n",
              " 'Waited',\n",
              " 'disappointed',\n",
              " 'pulled',\n",
              " 'prepared',\n",
              " 'rating',\n",
              " 'eating',\n",
              " 'writing',\n",
              " 'everything',\n",
              " 'dining',\n",
              " 'fried',\n",
              " 'boring',\n",
              " 'passed',\n",
              " 'charming',\n",
              " 'ordered',\n",
              " 'toasted',\n",
              " 'untoasted',\n",
              " 'going',\n",
              " 'figured',\n",
              " 'making',\n",
              " 'pricing',\n",
              " 'considering',\n",
              " 'returned',\n",
              " 'amazing',\n",
              " 'eyed',\n",
              " 'disappointed',\n",
              " 'pleased',\n",
              " 'Everything',\n",
              " 'replenished',\n",
              " 'disappointed',\n",
              " 'nothing',\n",
              " 'nothing',\n",
              " 'driving',\n",
              " 'treated',\n",
              " 'during',\n",
              " 'evening',\n",
              " 'offered',\n",
              " 'Outstanding',\n",
              " 'tasted',\n",
              " 'buying',\n",
              " 'handling',\n",
              " 'wasting',\n",
              " 'craving',\n",
              " 'dropped',\n",
              " 'dining',\n",
              " 'decorated',\n",
              " 'interesting',\n",
              " 'amazing',\n",
              " 'being',\n",
              " 'served',\n",
              " 'outshining',\n",
              " 'starving',\n",
              " 'coming',\n",
              " 'walked',\n",
              " 'stuffed',\n",
              " 'considering',\n",
              " 'located',\n",
              " 'shopping',\n",
              " 'nothing',\n",
              " 'Cooked',\n",
              " 'disappointed',\n",
              " 'getting',\n",
              " 'screwed',\n",
              " 'frustrated',\n",
              " 'iced',\n",
              " 'stuffed',\n",
              " 'disappointed',\n",
              " 'trying',\n",
              " 'grossed',\n",
              " 'enjoyed',\n",
              " 'eating',\n",
              " 'going',\n",
              " 'looked',\n",
              " 'overwhelmed',\n",
              " 'stayed',\n",
              " 'everything',\n",
              " 'smeared',\n",
              " 'stepped',\n",
              " 'tracked',\n",
              " 'tried',\n",
              " 'rushed',\n",
              " 'loved',\n",
              " 'Ordered',\n",
              " 'Nothing',\n",
              " 'cooked',\n",
              " 'going',\n",
              " 'insulted',\n",
              " 'contained',\n",
              " 'enjoyed',\n",
              " 'relaxed',\n",
              " 'loved',\n",
              " 'outstanding',\n",
              " 'running',\n",
              " 'acknowledged',\n",
              " 'forgetting',\n",
              " 'upgrading',\n",
              " 'trimmed',\n",
              " 'cooked',\n",
              " 'claimed',\n",
              " 'handled',\n",
              " 'asked',\n",
              " 'eating',\n",
              " 'bring',\n",
              " 'hoping',\n",
              " 'living',\n",
              " 'limited',\n",
              " 'boiled',\n",
              " 'dining',\n",
              " 'liked',\n",
              " 'sliced',\n",
              " 'attached',\n",
              " 'humiliated',\n",
              " 'filling',\n",
              " 'fried',\n",
              " 'amazing',\n",
              " 'impressed',\n",
              " 'disappointed',\n",
              " 'priced',\n",
              " 'Everything',\n",
              " 'disappointed',\n",
              " 'thing',\n",
              " 'amazing',\n",
              " 'need',\n",
              " 'Everything',\n",
              " 'interesting',\n",
              " 'need',\n",
              " 'experienced',\n",
              " 'amazing',\n",
              " 'amazing',\n",
              " 'waited',\n",
              " 'seated',\n",
              " 'waiting',\n",
              " 'going',\n",
              " 'going',\n",
              " 'dining',\n",
              " 'decided',\n",
              " 'pleased',\n",
              " 'saving',\n",
              " 'something',\n",
              " 'trying',\n",
              " 'disgusting',\n",
              " 'hankering',\n",
              " 'recommended',\n",
              " 'being',\n",
              " 'helped',\n",
              " 'witnessed',\n",
              " 'Waited',\n",
              " 'waited',\n",
              " 'waited',\n",
              " 'checked',\n",
              " 'tasted',\n",
              " 'disappointed',\n",
              " 'being',\n",
              " 'served',\n",
              " 'rated',\n",
              " 'recommended',\n",
              " 'pulled',\n",
              " 'waited',\n",
              " 'being',\n",
              " 'acknowledged',\n",
              " 'setting',\n",
              " 'perpared',\n",
              " 'dusted',\n",
              " 'powdered',\n",
              " 'enjoyed',\n",
              " 'expanded',\n",
              " 'sitting',\n",
              " 'ended',\n",
              " 'waiting',\n",
              " 'arrived',\n",
              " 'satisfying',\n",
              " 'wanted',\n",
              " 'disappointed',\n",
              " 'eating',\n",
              " 'need',\n",
              " 'being',\n",
              " 'freaking',\n",
              " 'checked',\n",
              " 'impressed',\n",
              " 'reheated',\n",
              " 'getting',\n",
              " 'amazing',\n",
              " 'tasted',\n",
              " 'disappointing',\n",
              " 'grilled',\n",
              " 'seasoning',\n",
              " 'going',\n",
              " 'focused',\n",
              " 'roasted',\n",
              " 'asked',\n",
              " 'being',\n",
              " 'ignored',\n",
              " 'bring',\n",
              " 'letting',\n",
              " 'tasted',\n",
              " 'evening',\n",
              " 'Ordered',\n",
              " 'greeted',\n",
              " 'seated',\n",
              " 'Tried',\n",
              " 'waiting',\n",
              " 'being',\n",
              " 'seated',\n",
              " 'eating',\n",
              " 'going',\n",
              " 'Disappointed',\n",
              " 'ordered',\n",
              " 'constructed',\n",
              " 'seating',\n",
              " 'fried',\n",
              " 'playing',\n",
              " 'requested',\n",
              " 'amazing',\n",
              " 'staying',\n",
              " 'used',\n",
              " 'tasted',\n",
              " 'giving',\n",
              " 'talking',\n",
              " 'amazing',\n",
              " 'drenched',\n",
              " 'amazing',\n",
              " 'amazing',\n",
              " 'tried',\n",
              " 'walked',\n",
              " 'expected',\n",
              " 'amazing',\n",
              " 'disappointed',\n",
              " 'mortified',\n",
              " 'filling',\n",
              " 'dripping',\n",
              " 'impressed',\n",
              " 'going',\n",
              " 'serving',\n",
              " 'refrained',\n",
              " 'recommending',\n",
              " 'pleased',\n",
              " 'thing',\n",
              " 'reading',\n",
              " 'loved',\n",
              " 'grilled',\n",
              " 'reminded',\n",
              " 'seating',\n",
              " 'sucked',\n",
              " 'hooked',\n",
              " 'ordered',\n",
              " 'going',\n",
              " 'disappointed',\n",
              " 'everything',\n",
              " 'seasoned',\n",
              " 'thing',\n",
              " 'added',\n",
              " 'sitting',\n",
              " 'waiting',\n",
              " 'bring',\n",
              " 'revisiting',\n",
              " 'coming',\n",
              " 'touched',\n",
              " 'anything',\n",
              " 'fried',\n",
              " 'opened',\n",
              " 'impressed',\n",
              " 'feeling',\n",
              " 'during',\n",
              " 'watched',\n",
              " 'thing',\n",
              " 'being',\n",
              " 'Tasted',\n",
              " 'amazing',\n",
              " 'being',\n",
              " 'amazing',\n",
              " 'ordered',\n",
              " 'satifying',\n",
              " 'describing',\n",
              " 'coming',\n",
              " 'everything',\n",
              " 'received',\n",
              " 'Paying',\n",
              " 'going',\n",
              " 'impressed',\n",
              " 'overcooked',\n",
              " 'cooked',\n",
              " 'needed',\n",
              " 'served',\n",
              " 'thing',\n",
              " 'ordered',\n",
              " 'amazing',\n",
              " 'overpriced',\n",
              " 'packed',\n",
              " 'getting',\n",
              " 'opposed',\n",
              " 'cramming',\n",
              " 'priced',\n",
              " 'surprised',\n",
              " 'considering',\n",
              " 'focused',\n",
              " 'overpriced',\n",
              " 'fucking',\n",
              " 'tried',\n",
              " 'enjoyed',\n",
              " 'going',\n",
              " 'qualified',\n",
              " 'tasted',\n",
              " 'hated',\n",
              " 'appealing',\n",
              " 'getting',\n",
              " 'coming',\n",
              " 'watched',\n",
              " 'Everything',\n",
              " 'fried',\n",
              " 'dealing',\n",
              " 'everything',\n",
              " 'tried',\n",
              " 'something',\n",
              " 'during',\n",
              " 'helped',\n",
              " 'dining',\n",
              " 'cooking',\n",
              " 'dining',\n",
              " 'started',\n",
              " 'editing',\n",
              " 'highlighted',\n",
              " 'setting',\n",
              " 'used',\n",
              " 'amazing',\n",
              " 'enjoyed',\n",
              " 'ordered',\n",
              " 'tasted',\n",
              " 'asked',\n",
              " 'refused',\n",
              " 'tried',\n",
              " 'rotating',\n",
              " 'Pricing',\n",
              " 'toasted',\n",
              " 'satisfying',\n",
              " 'anticipated',\n",
              " 'disappointing',\n",
              " 'amazing',\n",
              " 'returning',\n",
              " 'unexperienced',\n",
              " 'running',\n",
              " 'insulted',\n",
              " 'disrespected',\n",
              " 'being',\n",
              " 'impressed',\n",
              " 'thing',\n",
              " 'puréed',\n",
              " 'nothing',\n",
              " 'poisoning',\n",
              " 'thinking',\n",
              " 'something',\n",
              " 'going',\n",
              " 'disgusting',\n",
              " 'caring',\n",
              " 'bring',\n",
              " 'asked',\n",
              " 'Disappointing',\n",
              " 'rated',\n",
              " 'saying',\n",
              " 'going',\n",
              " 'lacked',\n",
              " 'coming',\n",
              " 'sliced',\n",
              " 'pulled',\n",
              " 'building',\n",
              " 'seating',\n",
              " 'undercooked',\n",
              " 'dipping',\n",
              " 'seemed',\n",
              " 'watered',\n",
              " 'lacked',\n",
              " 'disappointed',\n",
              " 'overpriced',\n",
              " 'setting',\n",
              " 'ensued',\n",
              " 'anything',\n",
              " 'drinking',\n",
              " 'serving',\n",
              " 'disappointed',\n",
              " 'placed',\n",
              " 'avoided',\n",
              " 'received',\n",
              " 'wanted',\n",
              " 'doing',\n",
              " 'sucked',\n",
              " 'happened',\n",
              " 'putting',\n",
              " 'owned',\n",
              " 'wanted',\n",
              " 'Overpriced',\n",
              " 'getting',\n",
              " 'vomited',\n",
              " 'looking',\n",
              " 'started',\n",
              " 'coming',\n",
              " 'unwrapped',\n",
              " 'lacked',\n",
              " 'seemed',\n",
              " 'undercooked',\n",
              " 'closed',\n",
              " 'staying',\n",
              " 'refried',\n",
              " 'dried',\n",
              " 'disappointed',\n",
              " 'lacking',\n",
              " 'impressed',\n",
              " 'underwhelming',\n",
              " 'wasted',\n",
              " 'poured',\n",
              " 'drawing',\n",
              " 'bring']"
            ]
          },
          "metadata": {},
          "execution_count": 128
        }
      ]
    },
    {
      "cell_type": "code",
      "source": [
        "import collections\n",
        "counter = collections.Counter(P12)\n",
        "counter"
      ],
      "metadata": {
        "colab": {
          "base_uri": "https://localhost:8080/"
        },
        "id": "imxe8dpjb76q",
        "outputId": "1c504e93-3afc-433a-cdc7-7760a1289213"
      },
      "execution_count": 130,
      "outputs": [
        {
          "output_type": "execute_result",
          "data": {
            "text/plain": [
              "Counter({'Loved': 2,\n",
              "         'Stopped': 2,\n",
              "         'during': 5,\n",
              "         'loved': 6,\n",
              "         'getting': 8,\n",
              "         'being': 14,\n",
              "         'ended': 2,\n",
              "         'overpriced': 5,\n",
              "         'tried': 6,\n",
              "         'disgusted': 1,\n",
              "         'shocked': 1,\n",
              "         'recommended': 3,\n",
              "         'amazing': 24,\n",
              "         'performed': 1,\n",
              "         'red': 2,\n",
              "         'asked': 5,\n",
              "         'running': 4,\n",
              "         'overwhelmed': 2,\n",
              "         'redeeming': 1,\n",
              "         'grossed': 2,\n",
              "         'melted': 1,\n",
              "         'provided': 1,\n",
              "         'thing': 8,\n",
              "         'cooked': 6,\n",
              "         'dressing': 3,\n",
              "         'refreshing': 1,\n",
              "         'ordered': 11,\n",
              "         'realized': 2,\n",
              "         'lined': 1,\n",
              "         'ripped': 2,\n",
              "         'petrified': 1,\n",
              "         'included': 1,\n",
              "         'expected': 3,\n",
              "         'nothing': 6,\n",
              "         'appalling': 1,\n",
              "         'seasoned': 2,\n",
              "         'cheated': 1,\n",
              "         'wasting': 2,\n",
              "         'eating': 8,\n",
              "         'going': 18,\n",
              "         'Coming': 1,\n",
              "         'experiencing': 1,\n",
              "         'underwhelming': 2,\n",
              "         'walked': 3,\n",
              "         'smelled': 1,\n",
              "         'raving': 1,\n",
              "         'tailored': 1,\n",
              "         'spring': 1,\n",
              "         'unsatisfying': 1,\n",
              "         'Everything': 6,\n",
              "         'disappointing': 4,\n",
              "         'dining': 8,\n",
              "         'flirting': 1,\n",
              "         'arrived': 3,\n",
              "         'roasted': 2,\n",
              "         'added': 2,\n",
              "         'coming': 9,\n",
              "         'playing': 2,\n",
              "         'passed': 2,\n",
              "         'ordering': 1,\n",
              "         'arriving': 1,\n",
              "         'liked': 3,\n",
              "         'managed': 1,\n",
              "         'served': 6,\n",
              "         'preparing': 2,\n",
              "         'loving': 1,\n",
              "         'liking': 1,\n",
              "         'reviewing': 1,\n",
              "         'venturing': 1,\n",
              "         'including': 1,\n",
              "         'checked': 3,\n",
              "         'disappointed': 18,\n",
              "         'decorated': 2,\n",
              "         'changing': 1,\n",
              "         'considering': 4,\n",
              "         'watched': 3,\n",
              "         'greeted': 2,\n",
              "         'seated': 5,\n",
              "         'waited': 8,\n",
              "         'flavored': 1,\n",
              "         'everything': 6,\n",
              "         'relocated': 1,\n",
              "         'impressed': 8,\n",
              "         'priced': 3,\n",
              "         'looking': 2,\n",
              "         'treated': 3,\n",
              "         'used': 3,\n",
              "         'handed': 1,\n",
              "         'listed': 1,\n",
              "         'missed': 1,\n",
              "         'thrilled': 1,\n",
              "         'judging': 1,\n",
              "         'inspired': 1,\n",
              "         'desired': 1,\n",
              "         'maintaining': 1,\n",
              "         'asking': 1,\n",
              "         'overcooked': 2,\n",
              "         'decided': 2,\n",
              "         'looked': 2,\n",
              "         'having': 1,\n",
              "         'dressed': 1,\n",
              "         'something': 4,\n",
              "         'lacking': 3,\n",
              "         'sucked': 4,\n",
              "         'imagined': 1,\n",
              "         'Interesting': 1,\n",
              "         'missing': 1,\n",
              "         'feeling': 2,\n",
              "         'satisfied': 1,\n",
              "         'voted': 1,\n",
              "         'insulted': 3,\n",
              "         'disrespected': 2,\n",
              "         'exceeding': 1,\n",
              "         'dreamed': 1,\n",
              "         'inviting': 1,\n",
              "         'lived': 1,\n",
              "         'stepped': 2,\n",
              "         'mixed': 1,\n",
              "         'showed': 1,\n",
              "         'climbing': 1,\n",
              "         'waiting': 5,\n",
              "         'needed': 2,\n",
              "         'wrapped': 1,\n",
              "         'uninspired': 1,\n",
              "         'dealing': 2,\n",
              "         'annoying': 1,\n",
              "         'Ordered': 3,\n",
              "         'falling': 1,\n",
              "         'uploaded': 1,\n",
              "         'sporting': 1,\n",
              "         'covered': 1,\n",
              "         'supposed': 1,\n",
              "         'rolled': 1,\n",
              "         'stayed': 2,\n",
              "         'providing': 1,\n",
              "         'building': 2,\n",
              "         'lighting': 1,\n",
              "         'Based': 1,\n",
              "         'received': 3,\n",
              "         'privileged': 1,\n",
              "         'working': 1,\n",
              "         'charged': 1,\n",
              "         'visited': 1,\n",
              "         'proclaimed': 1,\n",
              "         'dedicated': 1,\n",
              "         'outstanding': 2,\n",
              "         'burned': 1,\n",
              "         'Waited': 2,\n",
              "         'pulled': 3,\n",
              "         'prepared': 1,\n",
              "         'rating': 1,\n",
              "         'writing': 1,\n",
              "         'fried': 5,\n",
              "         'boring': 1,\n",
              "         'charming': 1,\n",
              "         'toasted': 2,\n",
              "         'untoasted': 1,\n",
              "         'figured': 1,\n",
              "         'making': 1,\n",
              "         'pricing': 1,\n",
              "         'returned': 1,\n",
              "         'eyed': 1,\n",
              "         'pleased': 3,\n",
              "         'replenished': 1,\n",
              "         'driving': 1,\n",
              "         'evening': 2,\n",
              "         'offered': 1,\n",
              "         'Outstanding': 1,\n",
              "         'tasted': 7,\n",
              "         'buying': 1,\n",
              "         'handling': 1,\n",
              "         'craving': 1,\n",
              "         'dropped': 1,\n",
              "         'interesting': 2,\n",
              "         'outshining': 1,\n",
              "         'starving': 1,\n",
              "         'stuffed': 2,\n",
              "         'located': 1,\n",
              "         'shopping': 1,\n",
              "         'Cooked': 1,\n",
              "         'screwed': 1,\n",
              "         'frustrated': 1,\n",
              "         'iced': 1,\n",
              "         'trying': 2,\n",
              "         'enjoyed': 5,\n",
              "         'smeared': 1,\n",
              "         'tracked': 1,\n",
              "         'rushed': 1,\n",
              "         'Nothing': 1,\n",
              "         'contained': 1,\n",
              "         'relaxed': 1,\n",
              "         'acknowledged': 2,\n",
              "         'forgetting': 1,\n",
              "         'upgrading': 1,\n",
              "         'trimmed': 1,\n",
              "         'claimed': 1,\n",
              "         'handled': 1,\n",
              "         'bring': 5,\n",
              "         'hoping': 1,\n",
              "         'living': 1,\n",
              "         'limited': 1,\n",
              "         'boiled': 1,\n",
              "         'sliced': 2,\n",
              "         'attached': 1,\n",
              "         'humiliated': 1,\n",
              "         'filling': 2,\n",
              "         'need': 3,\n",
              "         'experienced': 1,\n",
              "         'saving': 1,\n",
              "         'disgusting': 2,\n",
              "         'hankering': 1,\n",
              "         'helped': 2,\n",
              "         'witnessed': 1,\n",
              "         'rated': 2,\n",
              "         'setting': 3,\n",
              "         'perpared': 1,\n",
              "         'dusted': 1,\n",
              "         'powdered': 1,\n",
              "         'expanded': 1,\n",
              "         'sitting': 2,\n",
              "         'satisfying': 2,\n",
              "         'wanted': 3,\n",
              "         'freaking': 1,\n",
              "         'reheated': 1,\n",
              "         'grilled': 2,\n",
              "         'seasoning': 1,\n",
              "         'focused': 2,\n",
              "         'ignored': 1,\n",
              "         'letting': 1,\n",
              "         'Tried': 1,\n",
              "         'Disappointed': 1,\n",
              "         'constructed': 1,\n",
              "         'seating': 3,\n",
              "         'requested': 1,\n",
              "         'staying': 2,\n",
              "         'giving': 1,\n",
              "         'talking': 1,\n",
              "         'drenched': 1,\n",
              "         'mortified': 1,\n",
              "         'dripping': 1,\n",
              "         'serving': 2,\n",
              "         'refrained': 1,\n",
              "         'recommending': 1,\n",
              "         'reading': 1,\n",
              "         'reminded': 1,\n",
              "         'hooked': 1,\n",
              "         'revisiting': 1,\n",
              "         'touched': 1,\n",
              "         'anything': 2,\n",
              "         'opened': 1,\n",
              "         'Tasted': 1,\n",
              "         'satifying': 1,\n",
              "         'describing': 1,\n",
              "         'Paying': 1,\n",
              "         'packed': 1,\n",
              "         'opposed': 1,\n",
              "         'cramming': 1,\n",
              "         'surprised': 1,\n",
              "         'fucking': 1,\n",
              "         'qualified': 1,\n",
              "         'hated': 1,\n",
              "         'appealing': 1,\n",
              "         'cooking': 1,\n",
              "         'started': 2,\n",
              "         'editing': 1,\n",
              "         'highlighted': 1,\n",
              "         'refused': 1,\n",
              "         'rotating': 1,\n",
              "         'Pricing': 1,\n",
              "         'anticipated': 1,\n",
              "         'returning': 1,\n",
              "         'unexperienced': 1,\n",
              "         'puréed': 1,\n",
              "         'poisoning': 1,\n",
              "         'thinking': 1,\n",
              "         'caring': 1,\n",
              "         'Disappointing': 1,\n",
              "         'saying': 1,\n",
              "         'lacked': 3,\n",
              "         'undercooked': 2,\n",
              "         'dipping': 1,\n",
              "         'seemed': 2,\n",
              "         'watered': 1,\n",
              "         'ensued': 1,\n",
              "         'drinking': 1,\n",
              "         'placed': 1,\n",
              "         'avoided': 1,\n",
              "         'doing': 1,\n",
              "         'happened': 1,\n",
              "         'putting': 1,\n",
              "         'owned': 1,\n",
              "         'Overpriced': 1,\n",
              "         'vomited': 1,\n",
              "         'unwrapped': 1,\n",
              "         'closed': 1,\n",
              "         'refried': 1,\n",
              "         'dried': 1,\n",
              "         'wasted': 1,\n",
              "         'poured': 1,\n",
              "         'drawing': 1})"
            ]
          },
          "metadata": {},
          "execution_count": 130
        }
      ]
    },
    {
      "cell_type": "markdown",
      "source": [
        "#**Parte 3. Proceso de limpieza.**"
      ],
      "metadata": {
        "id": "70StdqAZa9E9"
      }
    },
    {
      "cell_type": "markdown",
      "source": [
        "*   **Pregunta 13.**  \n",
        "\n",
        "Ahora realiza un proceso de limpieza del corpus que incluya los siguientes procesos:\n",
        "\n",
        "*   Solo se deben considerar caracteres alfabéticos. Es decir, se eliminan todos los signos de puntuación y caracteres especiales.\n",
        "*   Todos los caracteres alfabéticos se transforman a minúsculas.\n",
        "*   Se deben eliminar todos los espacios en blanco adicionales que se puedan encontrar en cada comentario.\n",
        "\n",
        "Al finalizar dicho proceso de limpieza, imprime el resultado de los primeros 10 comentarios resultantes.\n",
        "   \n",
        "\n",
        "\n"
      ],
      "metadata": {
        "id": "xaDUFXHrMvX2"
      }
    },
    {
      "cell_type": "code",
      "source": [],
      "metadata": {
        "id": "K3kQzPOPMx0w"
      },
      "execution_count": null,
      "outputs": []
    },
    {
      "cell_type": "code",
      "source": [],
      "metadata": {
        "id": "mYEDlHSFMyJN"
      },
      "execution_count": null,
      "outputs": []
    },
    {
      "cell_type": "markdown",
      "source": [
        "*   **Pregunta 14.**  \n",
        "\n",
        "Con el resultado de la limpieza obtenido en la pregunta anterior, realiza ahora un proceso de tokenización por palabras del corpus.\n",
        "\n",
        "Es decir, al final de este proceso de tokenización, debes tener como resultado una lista de listas, donde cada comentario estará tokenizado por palabras.\n",
        "\n",
        "Al terminar calcula el total de tokens obtenido en todo el corpus."
      ],
      "metadata": {
        "id": "WZwEhg2lUSAX"
      }
    },
    {
      "cell_type": "code",
      "source": [],
      "metadata": {
        "id": "kbAL9-v0V-jx"
      },
      "execution_count": null,
      "outputs": []
    },
    {
      "cell_type": "code",
      "source": [],
      "metadata": {
        "id": "DZs_etmiV-fd"
      },
      "execution_count": null,
      "outputs": []
    },
    {
      "cell_type": "markdown",
      "source": [
        "*   **Pregunta 15.**  \n",
        "\n",
        "Finalmente, en este ejercicio definiremos nuestro conjunto de palabras \"stopwords\", las cuales deberás eliminar de todo el corpus.\n",
        "\n",
        "Recuerda que ejemplos de stopwords son artículos, adverbios, conectivos, etcétera, que tienen frecuencias de aparición muy altas en cualquier documento, pero que no brindan mucho significado en cuanto al significado de un enunciado.\n",
        "\n",
        "Con base a la lista de stopwords que se te proporciona, realiza un proceso de limpieza eliminando todas estas palabras del corpus obtenido en el ejercicio anterior.\n",
        "\n",
        "Obtener cuántos tokens/palabras quedan finalmente en todo el corpus.\n",
        "\n",
        "Obtener cuántos de estos tokens/palabras son diferentes, es decir, cuántos tokens únicos tendrá lo que llamaremos más adelante nuestro vocabulario."
      ],
      "metadata": {
        "id": "EFeu0OJ7WDPD"
      }
    },
    {
      "cell_type": "code",
      "source": [
        "# Considera la siguiente lista como tu conjunto de stopwords:\n",
        "mis_stopwords = ['i', 'me', 'my', 'myself', 'we', 'our', 'ours', 'ourselves', 'you', 'your', 'yours', 'he', 'him', 'his', 'himself', 'she', 'her', 'hers', 'herself', 'it', 'its', 'itself', 'they', 'them', 'their', 'theirs', 'themselves', 'what', 'which', 'who', 'whom', 'this', 'that', 'these', 'those', 'am', 'is', 'are', 'was', 'were', 'be', 'been', 'being', 'have', 'has', 'had', 'having', 'do', 'does', 'did', 'doing', 'a', 'an', 'the', 'and', 'but', 'if', 'or', 'because', 'as', 'until', 'while', 'of', 'at', 'by', 'for', 'with', 'about', 'against', 'between', 'into', 'through', 'during', 'before', 'after', 'above', 'below', 'to', 'from', 'up', 'down', 'in', 'out', 'on', 'over', 'under', 'again', 'further', 'then', 'once', 'here', 'there', 'when', 'where', 'why', 'how', 'all', 'any', 'both', 'each', 'few', 'more', 'most', 'other', 'some', 'such', 'only', 'own', 'same', 'so', 'than', 'too', 'very', 's', 't', 'can', 'will', 'just', 'should', 'now', 'll']"
      ],
      "metadata": {
        "id": "6FP4FF3KXGxm"
      },
      "execution_count": null,
      "outputs": []
    },
    {
      "cell_type": "code",
      "source": [],
      "metadata": {
        "id": "CD8yjyq1ZrwY"
      },
      "execution_count": null,
      "outputs": []
    },
    {
      "cell_type": "code",
      "source": [],
      "metadata": {
        "id": "4ZPi5prKZro5"
      },
      "execution_count": null,
      "outputs": []
    },
    {
      "cell_type": "markdown",
      "source": [
        "*   **Comentarios**\n",
        "\n",
        "Incluye finalmente tus comentarios de la actividad."
      ],
      "metadata": {
        "id": "NDbKkuxRbLoX"
      }
    },
    {
      "cell_type": "markdown",
      "source": [
        "<< incluye aquí tus comentarios >>"
      ],
      "metadata": {
        "id": "o7fzbvqVbUGr"
      }
    },
    {
      "cell_type": "markdown",
      "source": [
        "##**Fin de la Actividad de la semana 2.**"
      ],
      "metadata": {
        "id": "PHaKw_6Ldbaf"
      }
    }
  ]
}